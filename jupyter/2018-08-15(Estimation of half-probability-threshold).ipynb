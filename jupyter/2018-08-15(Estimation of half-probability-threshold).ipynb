{
 "cells": [
  {
   "cell_type": "markdown",
   "metadata": {
    "toc": true
   },
   "source": [
    "<h1>Table of Contents<span class=\"tocSkip\"></span></h1>\n",
    "<div class=\"toc\"><ul class=\"toc-item\"><li><span><a href=\"#Preamble\" data-toc-modified-id=\"Preamble-0\"><span class=\"toc-item-num\">0&nbsp;&nbsp;</span>Preamble</a></span><ul class=\"toc-item\"><li><span><a href=\"#Settings,-Setup-and-Libraries\" data-toc-modified-id=\"Settings,-Setup-and-Libraries-0.1\"><span class=\"toc-item-num\">0.1&nbsp;&nbsp;</span>Settings, Setup and Libraries</a></span></li><li><span><a href=\"#Functions\" data-toc-modified-id=\"Functions-0.2\"><span class=\"toc-item-num\">0.2&nbsp;&nbsp;</span>Functions</a></span><ul class=\"toc-item\"><li><ul class=\"toc-item\"><li><span><a href=\"#Find-success-rate\" data-toc-modified-id=\"Find-success-rate-0.2.0.1\"><span class=\"toc-item-num\">0.2.0.1&nbsp;&nbsp;</span>Find success rate</a></span></li><li><span><a href=\"#Find-the-length\" data-toc-modified-id=\"Find-the-length-0.2.0.2\"><span class=\"toc-item-num\">0.2.0.2&nbsp;&nbsp;</span>Find the length</a></span></li><li><span><a href=\"#Find-root\" data-toc-modified-id=\"Find-root-0.2.0.3\"><span class=\"toc-item-num\">0.2.0.3&nbsp;&nbsp;</span>Find root</a></span></li><li><span><a href=\"#Function-from-parameters-to-p50\" data-toc-modified-id=\"Function-from-parameters-to-p50-0.2.0.4\"><span class=\"toc-item-num\">0.2.0.4&nbsp;&nbsp;</span>Function from parameters to p50</a></span></li><li><span><a href=\"#Functions-of-PBA-(probabilistic-bisection-algorithm)\" data-toc-modified-id=\"Functions-of-PBA-(probabilistic-bisection-algorithm)-0.2.0.5\"><span class=\"toc-item-num\">0.2.0.5&nbsp;&nbsp;</span>Functions of PBA (probabilistic bisection algorithm)</a></span></li><li><span><a href=\"#Find-p50-by-PBA\" data-toc-modified-id=\"Find-p50-by-PBA-0.2.0.6\"><span class=\"toc-item-num\">0.2.0.6&nbsp;&nbsp;</span>Find p50 by PBA</a></span></li></ul></li></ul></li></ul></li><li><span><a href=\"#Finding-the-p50-probability-calculations\" data-toc-modified-id=\"Finding-the-p50-probability-calculations-1\"><span class=\"toc-item-num\">1&nbsp;&nbsp;</span>Finding the p50 probability calculations</a></span><ul class=\"toc-item\"><li><span><a href=\"#Doing-the-calculations-for-examples\" data-toc-modified-id=\"Doing-the-calculations-for-examples-1.1\"><span class=\"toc-item-num\">1.1&nbsp;&nbsp;</span>Doing the calculations for examples</a></span><ul class=\"toc-item\"><li><ul class=\"toc-item\"><li><span><a href=\"#Example\" data-toc-modified-id=\"Example-1.1.0.1\"><span class=\"toc-item-num\">1.1.0.1&nbsp;&nbsp;</span>Example</a></span></li><li><span><a href=\"#A-full-example-with-both-length-and-root-finding\" data-toc-modified-id=\"A-full-example-with-both-length-and-root-finding-1.1.0.2\"><span class=\"toc-item-num\">1.1.0.2&nbsp;&nbsp;</span>A full example with both length and root finding</a></span></li><li><span><a href=\"#Bootstrap-variability-of-success-rate-depending-on-the-number-of-samples\" data-toc-modified-id=\"Bootstrap-variability-of-success-rate-depending-on-the-number-of-samples-1.1.0.3\"><span class=\"toc-item-num\">1.1.0.3&nbsp;&nbsp;</span>Bootstrap variability of success rate depending on the number of samples</a></span></li><li><span><a href=\"#A-complete-examples-in-one-function\" data-toc-modified-id=\"A-complete-examples-in-one-function-1.1.0.4\"><span class=\"toc-item-num\">1.1.0.4&nbsp;&nbsp;</span>A complete examples in one function</a></span></li></ul></li></ul></li><li><span><a href=\"#Systematic-probability\" data-toc-modified-id=\"Systematic-probability-1.2\"><span class=\"toc-item-num\">1.2&nbsp;&nbsp;</span>Systematic probability</a></span><ul class=\"toc-item\"><li><span><a href=\"#Alpha\" data-toc-modified-id=\"Alpha-1.2.1\"><span class=\"toc-item-num\">1.2.1&nbsp;&nbsp;</span>Alpha</a></span></li><li><span><a href=\"#Ws\" data-toc-modified-id=\"Ws-1.2.2\"><span class=\"toc-item-num\">1.2.2&nbsp;&nbsp;</span>Ws</a></span></li><li><span><a href=\"#Minicolumns\" data-toc-modified-id=\"Minicolumns-1.2.3\"><span class=\"toc-item-num\">1.2.3&nbsp;&nbsp;</span>Minicolumns</a></span></li><li><span><a href=\"#Hypercolumns\" data-toc-modified-id=\"Hypercolumns-1.2.4\"><span class=\"toc-item-num\">1.2.4&nbsp;&nbsp;</span>Hypercolumns</a></span></li></ul></li></ul></li><li><span><a href=\"#Finding-the-p50-by-PBA\" data-toc-modified-id=\"Finding-the-p50-by-PBA-2\"><span class=\"toc-item-num\">2&nbsp;&nbsp;</span>Finding the p50 by PBA</a></span><ul class=\"toc-item\"><li><span><a href=\"#Some-calculations\" data-toc-modified-id=\"Some-calculations-2.1\"><span class=\"toc-item-num\">2.1&nbsp;&nbsp;</span>Some calculations</a></span><ul class=\"toc-item\"><li><span><a href=\"#An-example\" data-toc-modified-id=\"An-example-2.1.1\"><span class=\"toc-item-num\">2.1.1&nbsp;&nbsp;</span>An example</a></span></li></ul></li><li><span><a href=\"#Systematic-calculations\" data-toc-modified-id=\"Systematic-calculations-2.2\"><span class=\"toc-item-num\">2.2&nbsp;&nbsp;</span>Systematic calculations</a></span><ul class=\"toc-item\"><li><span><a href=\"#Alpha\" data-toc-modified-id=\"Alpha-2.2.1\"><span class=\"toc-item-num\">2.2.1&nbsp;&nbsp;</span>Alpha</a></span></li></ul></li></ul></li></ul></div>"
   ]
  },
  {
   "cell_type": "markdown",
   "metadata": {},
   "source": [
    "# Preamble"
   ]
  },
  {
   "cell_type": "markdown",
   "metadata": {},
   "source": [
    "## Settings, Setup and Libraries"
   ]
  },
  {
   "cell_type": "code",
   "execution_count": 2,
   "metadata": {
    "collapsed": true
   },
   "outputs": [],
   "source": [
    "import  pprint\n",
    "import  subprocess \n",
    "import sys \n",
    "sys.path.append('../')\n",
    "\n",
    "import numpy as np\n",
    "import scipy as sp\n",
    "import matplotlib.pyplot as plt\n",
    "import matplotlib\n",
    "import matplotlib.gridspec as gridspec\n",
    "from mpl_toolkits.axes_grid1 import make_axes_locatable\n",
    "import seaborn as sns\n",
    "\n",
    "%matplotlib inline\n",
    "plt.rcParams['figure.figsize'] = (8.0, 6.0)\n",
    "\n",
    "np.set_printoptions(suppress=True, precision=5)\n",
    "\n",
    "sns.set(font_scale=2.5)\n",
    "\n",
    "from network import Protocol, NetworkManager, Network\n",
    "from patterns_representation import PatternsRepresentation\n",
    "from analysis_functions import calculate_persistence_time, calculate_recall_quantities, deterministic_solution\n",
    "from plotting_functions import plot_weight_matrix, plot_network_activity_angle, plot_persistent_matrix\n",
    "\n",
    "epsilon = 10e-80\n",
    "vmin = -10.0"
   ]
  },
  {
   "cell_type": "markdown",
   "metadata": {},
   "source": [
    "## Functions"
   ]
  },
  {
   "cell_type": "markdown",
   "metadata": {},
   "source": [
    "#### Find success rate"
   ]
  },
  {
   "cell_type": "code",
   "execution_count": 3,
   "metadata": {
    "collapsed": true
   },
   "outputs": [],
   "source": [
    "def find_success_rate(manager, T_recall, n_samples, sigma_out):\n",
    "    manager.nn.sigma_in = sigma_out * np.sqrt(2 / tau_s) \n",
    "    manager.nn.sigma_out = sigma_out\n",
    "    T_cue = manager.nn.tau_s\n",
    "    I_cue = 0\n",
    "    nr = manager.canonical_network_representation\n",
    "    success_list = []\n",
    "    for index in range(n_samples):\n",
    "        aux = calculate_recall_quantities(manager, nr, T_recall, T_cue, remove=0.009, reset=True, empty_history=True)\n",
    "        success, pattern_sequence, persistent_times, timings = aux\n",
    "        success_list.append(success)\n",
    "        \n",
    "    return np.mean(success_list)"
   ]
  },
  {
   "cell_type": "markdown",
   "metadata": {},
   "source": [
    "#### Find the length"
   ]
  },
  {
   "cell_type": "code",
   "execution_count": 4,
   "metadata": {
    "collapsed": true
   },
   "outputs": [],
   "source": [
    "def find_right_length(length, manager, n_samples, T_recall):\n",
    "    found = False\n",
    "    number = 1.0\n",
    "    while(not found):\n",
    "        sigma_out = number * length\n",
    "        success_rate = find_success_rate(manager, T_recall=T_recall, n_samples=n_samples, sigma_out=sigma_out)\n",
    "        if success_rate < 0.50:\n",
    "            found = True\n",
    "        else:\n",
    "            number += 1.0\n",
    "    \n",
    "    return number"
   ]
  },
  {
   "cell_type": "markdown",
   "metadata": {},
   "source": [
    "#### Find root"
   ]
  },
  {
   "cell_type": "code",
   "execution_count": 5,
   "metadata": {
    "collapsed": true
   },
   "outputs": [],
   "source": [
    "def find_root(number, manager, T_recall, n_samples=50, deep=10, verbose=False):\n",
    "    left = (number - 1) * length \n",
    "    right = number * length\n",
    "    if verbose:\n",
    "        print('bounds', left, right)\n",
    "        \n",
    "    for i in range(deep):\n",
    "        sigma_test = (left + right) * 0.5\n",
    "        result = find_success_rate(manager, T_recall=T_recall, n_samples=n_samples, sigma_out=sigma_test)\n",
    "        if result > 0.5:\n",
    "            left = sigma_test\n",
    "        else:\n",
    "            right = sigma_test\n",
    "\n",
    "        if np.abs(sigma_test - 0.5) < 0.01:\n",
    "            break\n",
    "        if verbose:\n",
    "            print('result', result)\n",
    "            print('bounds', left, right)\n",
    "            \n",
    "    return sigma_test, result"
   ]
  },
  {
   "cell_type": "markdown",
   "metadata": {},
   "source": [
    "#### Function from parameters to p50"
   ]
  },
  {
   "cell_type": "code",
   "execution_count": 6,
   "metadata": {
    "collapsed": true
   },
   "outputs": [],
   "source": [
    "def find_p50(ws, wn, wb, alpha, minicolumns, hypercolumns, T_persistence, n_samples=100, deep=15, verbose=False):\n",
    "    strict_maximum = True\n",
    "\n",
    "    g_a = 1.0\n",
    "    g_I = 10.0\n",
    "    tau_a = 0.250\n",
    "    G = 1.0\n",
    "    sigma_out = 0.0\n",
    "    tau_s = 0.010\n",
    "    tau_z_pre = 0.025\n",
    "    tau_z_post = 0.005\n",
    "\n",
    "    n_patterns = minicolumns\n",
    "\n",
    "    # Manager properties\n",
    "    dt = 0.001\n",
    "    values_to_save = ['o']\n",
    "\n",
    "    # Neural Network\n",
    "    nn = Network(hypercolumns, minicolumns, G=G, tau_s=tau_s, tau_z_pre=tau_z_pre, tau_z_post=tau_z_post,\n",
    "                     tau_a=tau_a, g_a=g_a, g_I=g_I, sigma_out=sigma_out, epsilon=epsilon, prng=np.random,\n",
    "                     strict_maximum=strict_maximum, perfect=False, normalized_currents=True)\n",
    "\n",
    "    # Build the manager\n",
    "    manager = NetworkManager(nn=nn, dt=dt, values_to_save=values_to_save)\n",
    "\n",
    "    # Protocol\n",
    "    manager.run_artificial_protocol(ws=ws, wn=wn, wb=wb ,alpha=alpha)\n",
    "\n",
    "    manager.set_persistent_time_with_adaptation_gain(T_persistence=T_persistence)\n",
    "    \n",
    "    # First ffind the half length\n",
    "    n_samples_length = 30\n",
    "    T_recall = T_persistence * minicolumns + tau_s\n",
    "    number = find_right_length(length, manager, n_samples_length, T_recall)\n",
    "    sigma05, p05 = find_root(number, manager, T_recall, n_samples=n_samples, deep=deep, verbose=verbose)\n",
    "    return sigma05, p05"
   ]
  },
  {
   "cell_type": "markdown",
   "metadata": {},
   "source": [
    "#### Functions of PBA (probabilistic bisection algorithm)"
   ]
  },
  {
   "cell_type": "code",
   "execution_count": 72,
   "metadata": {
    "collapsed": true
   },
   "outputs": [],
   "source": [
    "def update_f(f, z_n, argument, pc):\n",
    "    if z_n >= 0.0:\n",
    "        f[argument:] = 2 * pc * f[argument:]\n",
    "        f[:argument] = 2 * (1 - pc) * f[:argument]\n",
    "    else:\n",
    "        f[argument:] = 2 * (1  - pc) * f[argument:]\n",
    "        f[:argument] = 2 * pc * f[:argument]\n",
    "        \n",
    "    f /= f.sum()\n",
    "\n",
    "def update_step(f, pc, manager, T_recall, n_samples, start_point, distribution_sampling):\n",
    "\n",
    "    F = np.cumsum(f)\n",
    "    x_n_argument = np.where(F >= 0.5)[0][0]\n",
    "    x_n = start_point + x_n_argument * distribution_sampling\n",
    "    success = find_success_rate(manager, T_recall, n_samples, sigma_out=x_n)\n",
    "    y_n = success - 0.5\n",
    "    z_n = np.sign(y_n)\n",
    "    update_f(f, z_n, x_n_argument, pc)\n",
    "    return f, F, x_n, y_n, z_n"
   ]
  },
  {
   "cell_type": "markdown",
   "metadata": {},
   "source": [
    "#### Find p50 by PBA"
   ]
  },
  {
   "cell_type": "code",
   "execution_count": 88,
   "metadata": {
    "collapsed": true
   },
   "outputs": [],
   "source": [
    "def find_p50_pba(ws, wn, wb, alpha, minicolumns, hypercolumns, T_persistence, n_samples=20, iterations=50, pc=0.6, safety_factor=0.25, distribution_sampling=0.01, verbose=False):\n",
    "    \n",
    "    strict_maximum = True\n",
    "\n",
    "    g_a = 1.0\n",
    "    g_I = 10.0\n",
    "    tau_a = 0.250\n",
    "    G = 1.0\n",
    "    sigma_out = 0.0\n",
    "    tau_s = 0.010\n",
    "    tau_z_pre = 0.025\n",
    "    tau_z_post = 0.005\n",
    "\n",
    "    n_patterns = minicolumns\n",
    "\n",
    "    # Manager properties\n",
    "    dt = 0.001\n",
    "    values_to_save = ['o']\n",
    "\n",
    "    # Neural Network\n",
    "    nn = Network(hypercolumns, minicolumns, G=G, tau_s=tau_s, tau_z_pre=tau_z_pre, tau_z_post=tau_z_post,\n",
    "                     tau_a=tau_a, g_a=g_a, g_I=g_I, sigma_out=sigma_out, epsilon=epsilon, prng=np.random,\n",
    "                     strict_maximum=strict_maximum, perfect=False, normalized_currents=True)\n",
    "\n",
    "    # Build the manager\n",
    "    manager = NetworkManager(nn=nn, dt=dt, values_to_save=values_to_save)\n",
    "\n",
    "    # Protocol\n",
    "    manager.run_artificial_protocol(ws=ws, wn=wn, wb=wb ,alpha=alpha)\n",
    "\n",
    "    manager.set_persistent_time_with_adaptation_gain(T_persistence=T_persistence)\n",
    "    \n",
    "    # First ffind the half length\n",
    "    n_samples_length = 30\n",
    "    T_recall = T_persistence * minicolumns + tau_s\n",
    "    number = find_right_length(length, manager, n_samples_length, T_recall)\n",
    "    \n",
    "    start_point = (number - 1 - safety_factor) * length\n",
    "    end_point = (number + safety_factor) * length\n",
    "    support = np.arange(start_point, end_point + distribution_sampling, distribution_sampling)\n",
    "    f0 = np.ones(support.size)\n",
    "    f0 /= f0.sum()\n",
    "\n",
    "    f = f0\n",
    "    F = np.cumsum(f)\n",
    "    \n",
    "    for i in range(iterations):\n",
    "        f, F, x_n, y_n, z_n = update_step(f, pc, manager, T_recall, n_samples, start_point, distribution_sampling)\n",
    "        if verbose:\n",
    "            print('iteration', i)\n",
    "            print('x_n', x_n)\n",
    "            print('y_n', y_n)\n",
    "            print('z_n', z_n)\n",
    "            print('-----')\n",
    "    \n",
    "    sigma05, p05 = x_n, y_n + 0.5\n",
    "    return sigma05, p05"
   ]
  },
  {
   "cell_type": "markdown",
   "metadata": {},
   "source": [
    "# Finding the p50 probability calculations"
   ]
  },
  {
   "cell_type": "markdown",
   "metadata": {},
   "source": [
    "## Doing the calculations for examples"
   ]
  },
  {
   "cell_type": "markdown",
   "metadata": {},
   "source": [
    "#### Example"
   ]
  },
  {
   "cell_type": "code",
   "execution_count": 6,
   "metadata": {
    "collapsed": true
   },
   "outputs": [],
   "source": [
    "strict_maximum = True\n",
    "\n",
    "g_a = 1.0\n",
    "g_I = 1.0\n",
    "tau_a = 0.250\n",
    "G = 100.0\n",
    "sigma_out = 0.0\n",
    "tau_s = 0.010\n",
    "tau_z_pre = 0.025\n",
    "tau_z_post = 0.005\n",
    "\n",
    "hypercolumns = 1\n",
    "minicolumns = 5\n",
    "n_patterns = minicolumns\n",
    "\n",
    "# Training\n",
    "ws = 1.0\n",
    "wn = 0.0\n",
    "wb = -20.0\n",
    "alpha = 1.0\n",
    "\n",
    "T_persistence = 0.080\n",
    "\n",
    "\n",
    "# Manager properties\n",
    "dt = 0.001\n",
    "values_to_save = ['o']\n",
    "\n",
    "# Neural Network\n",
    "nn = Network(hypercolumns, minicolumns, G=G, tau_s=tau_s, tau_z_pre=tau_z_pre, tau_z_post=tau_z_post,\n",
    "                 tau_a=tau_a, g_a=g_a, g_I=g_I, sigma_out=sigma_out, epsilon=epsilon, prng=np.random,\n",
    "                 strict_maximum=strict_maximum, perfect=False, normalized_currents=True)\n",
    "\n",
    "# Build the manager\n",
    "manager = NetworkManager(nn=nn, dt=dt, values_to_save=values_to_save)\n",
    "\n",
    "# Protocol\n",
    "manager.run_artificial_protocol(ws=ws, wn=wn, wb=wb ,alpha=alpha)\n",
    "\n",
    "manager.set_persistent_time_with_adaptation_gain(T_persistence=T_persistence)\n",
    "T_recall = T_persistence \n",
    "T_cue = tau_s\n",
    "I_cue = 0\n",
    "nr = manager.canonical_network_representation\n",
    "aux = calculate_recall_quantities(manager, nr, T_recall, T_cue, remove=0.009, reset=True, empty_history=True)\n",
    "success, pattern_sequence, persistent_times, timings = aux"
   ]
  },
  {
   "cell_type": "code",
   "execution_count": 7,
   "metadata": {},
   "outputs": [
    {
     "name": "stdout",
     "output_type": "stream",
     "text": [
      "0.42\n",
      "CPU times: user 5.15 s, sys: 0 ns, total: 5.15 s\n",
      "Wall time: 5.17 s\n"
     ]
    }
   ],
   "source": [
    "%%time\n",
    "length = ws - (wn - alpha)\n",
    "sigma_out =  3 * length \n",
    "n_samples = 100\n",
    "T_recall = T_persistence * manager.nn.minicolumns + tau_s\n",
    "success_rate = find_success_rate(manager, T_recall=T_recall, n_samples=n_samples, sigma_out=sigma_out)\n",
    "print(success_rate)"
   ]
  },
  {
   "cell_type": "code",
   "execution_count": 8,
   "metadata": {},
   "outputs": [
    {
     "name": "stdout",
     "output_type": "stream",
     "text": [
      "3.0\n",
      "CPU times: user 4.1 s, sys: 0 ns, total: 4.1 s\n",
      "Wall time: 4.1 s\n"
     ]
    }
   ],
   "source": [
    "%%time\n",
    "n_samples = 30\n",
    "number = find_right_length(length, manager, n_samples, T_recall)\n",
    "print(number)"
   ]
  },
  {
   "cell_type": "code",
   "execution_count": 9,
   "metadata": {},
   "outputs": [
    {
     "name": "stdout",
     "output_type": "stream",
     "text": [
      "2.0\n",
      "6.0\n"
     ]
    }
   ],
   "source": [
    "print(length)\n",
    "print(number * length)"
   ]
  },
  {
   "cell_type": "markdown",
   "metadata": {},
   "source": [
    "An example of the code used to calculate the root, now a function"
   ]
  },
  {
   "cell_type": "code",
   "execution_count": 10,
   "metadata": {},
   "outputs": [
    {
     "name": "stdout",
     "output_type": "stream",
     "text": [
      "4.0 6.0\n",
      "result 0.58\n",
      "bounds 5.0 6.0\n",
      "result 0.56\n",
      "bounds 5.5 6.0\n",
      "result 0.44\n",
      "bounds 5.5 5.75\n",
      "result 0.48\n",
      "bounds 5.5 5.625\n",
      "result 0.46\n",
      "bounds 5.5 5.5625\n",
      "result 0.6\n",
      "bounds 5.53125 5.5625\n",
      "result 0.64\n",
      "bounds 5.546875 5.5625\n",
      "result 0.52\n",
      "bounds 5.5546875 5.5625\n",
      "result 0.5\n",
      "bounds 5.5546875 5.55859375\n",
      "result 0.48\n",
      "bounds 5.5546875 5.556640625\n",
      "result 0.54\n",
      "bounds 5.5556640625 5.556640625\n",
      "result 0.44\n",
      "bounds 5.5556640625 5.55615234375\n",
      "result 0.58\n",
      "bounds 5.555908203125 5.55615234375\n",
      "result 0.62\n",
      "bounds 5.5560302734375 5.55615234375\n",
      "result 0.5\n",
      "bounds 5.5560302734375 5.55609130859375\n",
      "result 0.5\n",
      "sigma 5.55609130859375\n",
      "CPU times: user 35.3 s, sys: 28 ms, total: 35.4 s\n",
      "Wall time: 35.4 s\n"
     ]
    }
   ],
   "source": [
    "%%time\n",
    "n_samples = 50\n",
    "deep = 15\n",
    "left = (number - 1) * length \n",
    "right = number * length\n",
    "print(left, right)\n",
    "# Test for middle\n",
    "for i in range(deep):\n",
    "    sigma_test = (left + right) * 0.5\n",
    "    result = find_success_rate(manager, T_recall=T_recall, n_samples=n_samples, sigma_out=sigma_test)\n",
    "    if result > 0.5:\n",
    "        left = sigma_test\n",
    "    else:\n",
    "        right = sigma_test\n",
    "  \n",
    "    print('result', result)\n",
    "    print('bounds', left, right)\n",
    "\n",
    "print('result', result)\n",
    "print('sigma', sigma_test)"
   ]
  },
  {
   "cell_type": "code",
   "execution_count": 11,
   "metadata": {},
   "outputs": [
    {
     "name": "stdout",
     "output_type": "stream",
     "text": [
      "0.44\n"
     ]
    }
   ],
   "source": [
    "success_rate = find_success_rate(manager, T_recall=T_recall, n_samples=n_samples, sigma_out=sigma_test)\n",
    "print(success_rate)"
   ]
  },
  {
   "cell_type": "code",
   "execution_count": 12,
   "metadata": {},
   "outputs": [
    {
     "name": "stdout",
     "output_type": "stream",
     "text": [
      "bounds 4.0 6.0\n",
      "result 0.63\n",
      "bounds 5.0 6.0\n",
      "result 0.6\n",
      "bounds 5.5 6.0\n",
      "result 0.43\n",
      "bounds 5.5 5.75\n",
      "result 0.54\n",
      "bounds 5.625 5.75\n",
      "result 0.59\n",
      "bounds 5.6875 5.75\n",
      "result 0.47\n",
      "bounds 5.6875 5.71875\n",
      "result 0.56\n",
      "bounds 5.703125 5.71875\n",
      "result 0.62\n",
      "bounds 5.7109375 5.71875\n",
      "result 0.44\n",
      "bounds 5.7109375 5.71484375\n",
      "result 0.55\n",
      "bounds 5.712890625 5.71484375\n",
      "root 5.712890625 result 0.55\n",
      "CPU times: user 50.9 s, sys: 80 ms, total: 51 s\n",
      "Wall time: 51 s\n"
     ]
    }
   ],
   "source": [
    "%%time\n",
    "root, result = find_root(number, manager, T_recall, n_samples=100, deep=10, verbose=True)\n",
    "print('root', root, 'result', result)"
   ]
  },
  {
   "cell_type": "markdown",
   "metadata": {},
   "source": [
    "#### A full example with both length and root finding"
   ]
  },
  {
   "cell_type": "code",
   "execution_count": 13,
   "metadata": {},
   "outputs": [
    {
     "name": "stdout",
     "output_type": "stream",
     "text": [
      "bounds 6.0 8.0\n",
      "result 0.29\n",
      "bounds 6.0 7.0\n",
      "result 0.41\n",
      "bounds 6.0 6.5\n",
      "result 0.4\n",
      "bounds 6.0 6.25\n",
      "result 0.41\n",
      "bounds 6.0 6.125\n",
      "result 0.53\n",
      "bounds 6.0625 6.125\n",
      "result 0.54\n",
      "bounds 6.09375 6.125\n",
      "result 0.4\n",
      "bounds 6.09375 6.109375\n",
      "result 0.41\n",
      "bounds 6.09375 6.1015625\n",
      "result 0.53\n",
      "bounds 6.09765625 6.1015625\n",
      "result 0.42\n",
      "bounds 6.09765625 6.099609375\n",
      "result 0.48\n",
      "bounds 6.09765625 6.0986328125\n",
      "result 0.39\n",
      "bounds 6.09765625 6.09814453125\n",
      "result 0.49\n",
      "bounds 6.09765625 6.097900390625\n",
      "result 0.56\n",
      "bounds 6.0977783203125 6.097900390625\n",
      "result 0.55\n",
      "bounds 6.09783935546875 6.097900390625\n",
      "CPU times: user 1min 24s, sys: 60 ms, total: 1min 24s\n",
      "Wall time: 1min 24s\n"
     ]
    }
   ],
   "source": [
    "%%time\n",
    "n_samples = 50\n",
    "T_recall = T_persistence * manager.nn.minicolumns + tau_s\n",
    "number = find_right_length(length, manager, n_samples, T_recall)\n",
    "n_samples = 100\n",
    "deep = 15\n",
    "root, result = find_root(number, manager, T_recall, n_samples=n_samples, deep=deep, verbose=True)"
   ]
  },
  {
   "cell_type": "code",
   "execution_count": 14,
   "metadata": {},
   "outputs": [
    {
     "name": "stdout",
     "output_type": "stream",
     "text": [
      "the sigma50 =  6.09783935546875 result =  0.55 number 4.0 length 2.0\n"
     ]
    }
   ],
   "source": [
    "print('the sigma50 = ', root, 'result = ', result, 'number', number, 'length', length)"
   ]
  },
  {
   "cell_type": "markdown",
   "metadata": {},
   "source": [
    "#### Bootstrap variability of success rate depending on the number of samples\n",
    "* 100 has a std on the order of 0.05\n",
    "* 200 has a std on the order of 0.034\n",
    "* 1000 has a std on the order of 0.01"
   ]
  },
  {
   "cell_type": "code",
   "execution_count": 15,
   "metadata": {},
   "outputs": [
    {
     "name": "stdout",
     "output_type": "stream",
     "text": [
      "50\n",
      "100\n",
      "500\n",
      "1000\n",
      "CPU times: user 52min 2s, sys: 220 ms, total: 52min 2s\n",
      "Wall time: 52min 2s\n"
     ]
    }
   ],
   "source": [
    "%%time\n",
    "sigma_out =  3 * length \n",
    "\n",
    "n_samples_list = [50, 100, 500, 1000]\n",
    "big_list = []\n",
    "sampling_times = 50\n",
    "for n_samples in n_samples_list:\n",
    "    print(n_samples)\n",
    "    success_rate_list = []\n",
    "    for i in range(sampling_times):\n",
    "        success_rate = find_success_rate(manager, T_recall=T_recall, n_samples=n_samples, sigma_out=sigma_out)\n",
    "        success_rate_list.append(success_rate)\n",
    "        \n",
    "    big_list.append(success_rate_list)\n",
    "    "
   ]
  },
  {
   "cell_type": "code",
   "execution_count": 16,
   "metadata": {},
   "outputs": [
    {
     "name": "stdout",
     "output_type": "stream",
     "text": [
      "[0.48200000000000004, 0.48519999999999996, 0.48391999999999996, 0.4842]\n",
      "[0.07, 0.0600413191060956, 0.0214586486060982, 0.012685424707119586]\n"
     ]
    }
   ],
   "source": [
    "means = [np.mean(x) for x in big_list]\n",
    "stds = [np.std(x) for x in big_list]\n",
    "\n",
    "pprint.pprint(means)\n",
    "pprint.pprint(stds)"
   ]
  },
  {
   "cell_type": "code",
   "execution_count": 28,
   "metadata": {},
   "outputs": [
    {
     "data": {
      "text/plain": [
       "(array([24., 20., 20., 40., 24., 32.,  4., 12., 12., 12.]),\n",
       " array([0.463, 0.468, 0.473, 0.478, 0.483, 0.488, 0.493, 0.498, 0.503,\n",
       "        0.508, 0.513]),\n",
       " <a list of 10 Patch objects>)"
      ]
     },
     "execution_count": 28,
     "metadata": {},
     "output_type": "execute_result"
    },
    {
     "data": {
      "image/png": "[encoded data removed]",
      "text/plain": [
       "<Figure size 576x432 with 1 Axes>"
      ]
     },
     "metadata": {},
     "output_type": "display_data"
    }
   ],
   "source": [
    "plt.hist(big_list[0], color='blue', density=True, stacked=True, alpha=0.2)\n",
    "plt.hist(big_list[1], color='red', density=True, stacked=True, alpha=0.2)\n",
    "plt.hist(big_list[2], color='green', density=True, stacked=True, alpha=0.2)\n",
    "plt.hist(big_list[3], color='black', density=True, stacked=True, alpha=0.2)"
   ]
  },
  {
   "cell_type": "markdown",
   "metadata": {},
   "source": [
    "n_samples = [50, 100, 500, 1000]\n",
    "r <-  n_samples  to estimate the mean success from 0 and 1\n",
    "n_samples_samples = [100]\n",
    "I estimate r n_samples_of_samples times to see how to estimate changes. \n"
   ]
  },
  {
   "cell_type": "markdown",
   "metadata": {},
   "source": [
    "####  A complete examples in one function"
   ]
  },
  {
   "cell_type": "code",
   "execution_count": 18,
   "metadata": {},
   "outputs": [
    {
     "name": "stdout",
     "output_type": "stream",
     "text": [
      "bounds 4.0 6.0\n",
      "result 0.7\n",
      "bounds 5.0 6.0\n",
      "result 0.46\n",
      "bounds 5.0 5.5\n",
      "result 0.54\n",
      "bounds 5.25 5.5\n",
      "result 0.64\n",
      "bounds 5.375 5.5\n",
      "result 0.45\n",
      "bounds 5.375 5.4375\n",
      "result 0.53\n",
      "bounds 5.40625 5.4375\n",
      "result 0.56\n",
      "bounds 5.421875 5.4375\n",
      "result 0.46\n",
      "bounds 5.421875 5.4296875\n",
      "result 0.55\n",
      "bounds 5.42578125 5.4296875\n",
      "result 0.51\n",
      "bounds 5.427734375 5.4296875\n",
      "sigma50 5.427734375 result 0.51\n",
      "CPU times: user 26.5 s, sys: 12 ms, total: 26.5 s\n",
      "Wall time: 26.5 s\n"
     ]
    }
   ],
   "source": [
    "%%time\n",
    "ws = 1.0\n",
    "wn = 0.0\n",
    "wb = -20.0\n",
    "alpha = 1.0\n",
    "minicolumns = 5\n",
    "hypercolumns = 1\n",
    "T_persistence = 0.050\n",
    "\n",
    "sigma50, result = find_p50(ws, wn, wb, alpha, minicolumns, hypercolumns, T_persistence,\n",
    "                           n_samples=100, deep=10, verbose=True)\n",
    "print('sigma50', sigma50, 'result', result)"
   ]
  },
  {
   "cell_type": "markdown",
   "metadata": {},
   "source": [
    "## Systematic probability"
   ]
  },
  {
   "cell_type": "markdown",
   "metadata": {},
   "source": [
    "### Alpha"
   ]
  },
  {
   "cell_type": "code",
   "execution_count": 31,
   "metadata": {},
   "outputs": [
    {
     "name": "stdout",
     "output_type": "stream",
     "text": [
      "0.5\n",
      "--------\n",
      "3.1052631578947367\n",
      "--------\n",
      "5.7105263157894735\n",
      "--------\n",
      "8.31578947368421\n",
      "--------\n",
      "10.921052631578947\n",
      "--------\n",
      "13.526315789473683\n",
      "--------\n",
      "16.13157894736842\n",
      "--------\n",
      "18.736842105263158\n",
      "--------\n",
      "21.342105263157894\n",
      "--------\n",
      "23.94736842105263\n",
      "--------\n",
      "26.552631578947366\n",
      "--------\n",
      "29.157894736842103\n",
      "--------\n",
      "31.763157894736842\n",
      "--------\n",
      "34.368421052631575\n",
      "--------\n",
      "36.973684210526315\n",
      "--------\n",
      "39.57894736842105\n",
      "--------\n",
      "42.18421052631579\n",
      "--------\n",
      "44.78947368421053\n",
      "--------\n",
      "47.39473684210526\n",
      "--------\n",
      "50.0\n",
      "--------\n",
      "CPU times: user 49min 20s, sys: 576 ms, total: 49min 20s\n",
      "Wall time: 49min 21s\n"
     ]
    }
   ],
   "source": [
    "%%time\n",
    "alpha_num = 20\n",
    "alpha_vector = np.linspace(0.5, 50, num=alpha_num)\n",
    "sigma05_vector = np.zeros(alpha_num)\n",
    "p05_vector = np.zeros(alpha_num)\n",
    "\n",
    "\n",
    "ws = 1.0\n",
    "wn = 0.0\n",
    "wb = -20.0\n",
    "alpha = 1.0\n",
    "minicolumns = 5\n",
    "hypercolumns = 1\n",
    "T_persistence = 0.050\n",
    "n_samples = 500\n",
    "deep = 10\n",
    "\n",
    "for index, alpha in enumerate(alpha_vector):\n",
    "    print(alpha)\n",
    "    sigma05, p05 = find_p50(ws, wn, wb, alpha, minicolumns, hypercolumns, T_persistence, \n",
    "                            n_samples=n_samples, deep=deep, verbose=False)\n",
    "    print('--------')\n",
    "    sigma05_vector[index] = sigma05\n",
    "    p05_vector[index] = p05"
   ]
  },
  {
   "cell_type": "code",
   "execution_count": 32,
   "metadata": {},
   "outputs": [
    {
     "data": {
      "image/png": "[encoded data removed]",
      "text/plain": [
       "<Figure size 576x432 with 1 Axes>"
      ]
     },
     "metadata": {},
     "output_type": "display_data"
    }
   ],
   "source": [
    "lw = 8\n",
    "ms = 15\n",
    "\n",
    "fig = plt.figure()\n",
    "ax = fig.add_subplot(111)\n",
    "ax.plot(alpha_vector, sigma05_vector, 'o-', lw=lw, ms=ms)\n",
    "\n",
    "ax.set_xlabel(r'$\\alpha$')\n",
    "ax.set_ylabel(r'$\\sigma_{50}$')\n",
    "\n",
    "ax.axhline(0, ls='--', color='gray')\n",
    "ax.axvline(0, ls='--', color='gray');"
   ]
  },
  {
   "cell_type": "code",
   "execution_count": 33,
   "metadata": {},
   "outputs": [
    {
     "data": {
      "image/png": "[encoded data removed]",
      "text/plain": [
       "<Figure size 576x432 with 1 Axes>"
      ]
     },
     "metadata": {},
     "output_type": "display_data"
    }
   ],
   "source": [
    "lw = 8\n",
    "ms = 15\n",
    "\n",
    "fig = plt.figure()\n",
    "ax = fig.add_subplot(111)\n",
    "ax.plot(alpha_vector, p05_vector, 'o-', lw=lw, ms=ms)\n",
    "\n",
    "ax.set_xlabel(r'$\\alpha$')\n",
    "ax.set_ylabel(r'$p_{50}$')\n",
    "\n",
    "ax.set_ylim([0.0, 1.0])\n",
    "ax.axhline(0.5, ls='--', color='gray')\n",
    "ax.axhline(0, ls='--', color='gray')\n",
    "ax.axvline(0, ls='--', color='gray');"
   ]
  },
  {
   "cell_type": "markdown",
   "metadata": {},
   "source": [
    "### Ws"
   ]
  },
  {
   "cell_type": "code",
   "execution_count": 38,
   "metadata": {},
   "outputs": [
    {
     "name": "stdout",
     "output_type": "stream",
     "text": [
      "1.0\n",
      "--------\n",
      "3.0714285714285716\n",
      "--------\n",
      "5.142857142857143\n",
      "--------\n",
      "7.214285714285715\n",
      "--------\n",
      "9.285714285714286\n",
      "--------\n",
      "11.357142857142858\n",
      "--------\n",
      "13.42857142857143\n",
      "--------\n",
      "15.500000000000002\n",
      "--------\n",
      "17.571428571428573\n",
      "--------\n",
      "19.642857142857146\n",
      "--------\n",
      "21.714285714285715\n",
      "--------\n",
      "23.78571428571429\n",
      "--------\n",
      "25.85714285714286\n",
      "--------\n",
      "27.92857142857143\n",
      "--------\n",
      "30.0\n",
      "--------\n",
      "CPU times: user 37min 37s, sys: 304 ms, total: 37min 38s\n",
      "Wall time: 37min 38s\n"
     ]
    }
   ],
   "source": [
    "%%time\n",
    "ws_num = 15\n",
    "ws_vector = np.linspace(1, 30, num=ws_num )\n",
    "sigma05_vector_ws = np.zeros(ws_num)\n",
    "p05_vector_ws = np.zeros(ws_num)\n",
    "\n",
    "\n",
    "ws = 1.0\n",
    "wn = 0.0\n",
    "wb = -20.0\n",
    "alpha = 15.0\n",
    "minicolumns = 5\n",
    "hypercolumns = 1\n",
    "T_persistence = 0.050\n",
    "n_samples = 500\n",
    "deep = 10\n",
    "\n",
    "for index, ws in enumerate(ws_vector):\n",
    "    print(ws)\n",
    "    sigma05, p05 = find_p50(ws, wn, wb, alpha, minicolumns, hypercolumns, T_persistence, \n",
    "                            n_samples=n_samples, deep=deep, verbose=False)\n",
    "    print('--------')\n",
    "    sigma05_vector_ws[index] = sigma05\n",
    "    p05_vector_ws[index] = p05"
   ]
  },
  {
   "cell_type": "code",
   "execution_count": 39,
   "metadata": {},
   "outputs": [
    {
     "data": {
      "image/png": "[encoded data removed]",
      "text/plain": [
       "<Figure size 576x432 with 1 Axes>"
      ]
     },
     "metadata": {},
     "output_type": "display_data"
    }
   ],
   "source": [
    "lw = 8\n",
    "ms = 15\n",
    "\n",
    "fig = plt.figure()\n",
    "ax = fig.add_subplot(111)\n",
    "ax.plot(ws_vector, sigma05_vector_ws, 'o-', lw=lw, ms=ms)\n",
    "\n",
    "ax.set_xlabel(r'$w_{self}$')\n",
    "ax.set_ylabel(r'$\\sigma_{50}$')\n",
    "\n",
    "ax.axhline(0, ls='--', color='gray')\n",
    "ax.axvline(0, ls='--', color='gray');"
   ]
  },
  {
   "cell_type": "code",
   "execution_count": 40,
   "metadata": {},
   "outputs": [
    {
     "data": {
      "image/png": "[encoded data removed]",
      "text/plain": [
       "<Figure size 576x432 with 1 Axes>"
      ]
     },
     "metadata": {},
     "output_type": "display_data"
    }
   ],
   "source": [
    "lw = 8\n",
    "ms = 15\n",
    "\n",
    "fig = plt.figure()\n",
    "ax = fig.add_subplot(111)\n",
    "ax.plot(ws_vector, p05_vector_ws, 'o-', lw=lw, ms=ms)\n",
    "\n",
    "ax.set_xlabel(r'$w_{self}$')\n",
    "ax.set_ylabel(r'$p_{50}$')\n",
    "ax.set_ylim([0.0, 1.0])\n",
    "\n",
    "ax.axhline(0.5, ls='--', color='gray')\n",
    "ax.axhline(0, ls='--', color='gray')\n",
    "ax.axvline(0, ls='--', color='gray');"
   ]
  },
  {
   "cell_type": "markdown",
   "metadata": {},
   "source": [
    "### Minicolumns"
   ]
  },
  {
   "cell_type": "code",
   "execution_count": 25,
   "metadata": {},
   "outputs": [
    {
     "name": "stdout",
     "output_type": "stream",
     "text": [
      "5\n",
      "--------\n",
      "10\n",
      "--------\n",
      "15\n",
      "--------\n",
      "20\n",
      "--------\n",
      "25\n",
      "--------\n",
      "30\n",
      "--------\n",
      "35\n",
      "--------\n",
      "40\n",
      "--------\n",
      "CPU times: user 3h 53min 34s, sys: 1.4 s, total: 3h 53min 35s\n",
      "Wall time: 3h 53min 35s\n"
     ]
    }
   ],
   "source": [
    "%%time\n",
    "ws_num = 10\n",
    "minicolumns_vector = np.arange(5, 45, 5).astype('int')\n",
    "minicolumns_num = minicolumns_vector.size\n",
    "sigma05_vector_minicolumns = np.zeros(minicolumns_num)\n",
    "p05_vector_minicolumns = np.zeros(minicolumns_num)\n",
    "\n",
    "\n",
    "ws = 1.0\n",
    "wn = 0.0\n",
    "wb = -20.0\n",
    "alpha = 1.0\n",
    "minicolumns = 5\n",
    "hypercolumns = 1\n",
    "T_persistence = 0.050\n",
    "n_samples = 500\n",
    "deep = 10\n",
    "\n",
    "for index, minicolumns in enumerate(minicolumns_vector):\n",
    "    print(minicolumns)\n",
    "    sigma05, p05 = find_p50(ws, wn, wb, alpha, minicolumns, hypercolumns, T_persistence, \n",
    "                            n_samples=n_samples, deep=deep, verbose=False)\n",
    "    print('--------')\n",
    "    sigma05_vector_minicolumns[index] = sigma05\n",
    "    p05_vector_minicolumns[index] = p05"
   ]
  },
  {
   "cell_type": "code",
   "execution_count": 26,
   "metadata": {},
   "outputs": [
    {
     "data": {
      "image/png": "[encoded data removed]",
      "text/plain": [
       "<Figure size 576x432 with 1 Axes>"
      ]
     },
     "metadata": {},
     "output_type": "display_data"
    }
   ],
   "source": [
    "lw = 8\n",
    "ms = 15\n",
    "\n",
    "fig = plt.figure()\n",
    "ax = fig.add_subplot(111)\n",
    "ax.plot(minicolumns_vector, sigma05_vector_minicolumns, 'o-', lw=lw, ms=ms)\n",
    "\n",
    "ax.set_xlabel('minicolumns')\n",
    "ax.set_ylabel(r'$\\sigma_{50}$')\n",
    "\n",
    "ax.axhline(0, ls='--', color='gray')\n",
    "ax.axvline(0, ls='--', color='gray');"
   ]
  },
  {
   "cell_type": "code",
   "execution_count": 27,
   "metadata": {},
   "outputs": [
    {
     "data": {
      "image/png": "[encoded data removed]",
      "text/plain": [
       "<Figure size 576x432 with 1 Axes>"
      ]
     },
     "metadata": {},
     "output_type": "display_data"
    }
   ],
   "source": [
    "lw = 8\n",
    "ms = 15\n",
    "\n",
    "fig = plt.figure()\n",
    "ax = fig.add_subplot(111)\n",
    "ax.plot(minicolumns_vector, p05_vector_minicolumns, 'o-', lw=lw, ms=ms)\n",
    "\n",
    "ax.set_xlabel('minicolumns')\n",
    "ax.set_ylabel(r'$p_{50}$')\n",
    "\n",
    "\n",
    "ax.set_ylim([0.0, 1.0])\n",
    "ax.axhline(0, ls='--', color='gray')\n",
    "ax.axvline(0, ls='--', color='gray');"
   ]
  },
  {
   "cell_type": "markdown",
   "metadata": {
    "collapsed": true
   },
   "source": [
    "### Hypercolumns"
   ]
  },
  {
   "cell_type": "code",
   "execution_count": 50,
   "metadata": {},
   "outputs": [
    {
     "name": "stdout",
     "output_type": "stream",
     "text": [
      "1\n",
      "1\n",
      "--------\n",
      "4\n",
      "4\n",
      "--------\n",
      "7\n",
      "7\n",
      "--------\n",
      "10\n",
      "10\n",
      "--------\n",
      "13\n",
      "13\n",
      "--------\n",
      "16\n",
      "16\n",
      "--------\n",
      "19\n",
      "19\n",
      "--------\n",
      "22\n",
      "22\n",
      "--------\n",
      "CPU times: user 3min 31s, sys: 1.16 s, total: 3min 32s\n",
      "Wall time: 2min 19s\n"
     ]
    }
   ],
   "source": [
    "%%time\n",
    "hypercolumns_vector = np.arange(1, 25, 3).astype('int')\n",
    "hypercolumns_num = hypercolumns_vector.size\n",
    "sigma05_vector_hypercolumns = np.zeros(hypercolumns_num)\n",
    "p05_vector_hypercolumns = np.zeros(hypercolumns_num)\n",
    "\n",
    "\n",
    "ws = 1.0\n",
    "wn = 0.0\n",
    "wb = -20.0\n",
    "alpha = 1.0\n",
    "minicolumns = 5\n",
    "hypercolumns = 1\n",
    "T_persistence = 0.050\n",
    "n_samples = 50\n",
    "deep = 10\n",
    "\n",
    "for index, hypercolumns in enumerate(hypercolumns_vector):\n",
    "    print(hypercolumns)\n",
    "    sigma05, p05 = find_p50(ws, wn, wb, alpha, minicolumns, hypercolumns, T_persistence, \n",
    "                            n_samples=n_samples, deep=deep, verbose=False)\n",
    "    print('--------')\n",
    "    sigma05_vector_hypercolumns[index] = sigma05\n",
    "    p05_vector_hypercolumns[index] = p05"
   ]
  },
  {
   "cell_type": "code",
   "execution_count": 51,
   "metadata": {},
   "outputs": [
    {
     "data": {
      "image/png": "[encoded data removed]",
      "text/plain": [
       "<Figure size 576x432 with 1 Axes>"
      ]
     },
     "metadata": {},
     "output_type": "display_data"
    }
   ],
   "source": [
    "lw = 8\n",
    "ms = 15\n",
    "\n",
    "fig = plt.figure()\n",
    "ax = fig.add_subplot(111)\n",
    "ax.plot(hypercolumns_vector, sigma05_vector_hypercolumns, 'o-', lw=lw, ms=ms)\n",
    "\n",
    "ax.set_xlabel('hypercolumns')\n",
    "ax.set_ylabel(r'$\\sigma_{50}$')\n",
    "\n",
    "ax.axhline(0, ls='--', color='gray')\n",
    "ax.axvline(0, ls='--', color='gray');"
   ]
  },
  {
   "cell_type": "code",
   "execution_count": 54,
   "metadata": {},
   "outputs": [
    {
     "data": {
      "image/png": "[encoded data removed]",
      "text/plain": [
       "<Figure size 576x432 with 1 Axes>"
      ]
     },
     "metadata": {},
     "output_type": "display_data"
    }
   ],
   "source": [
    "lw = 8\n",
    "ms = 15\n",
    "\n",
    "fig = plt.figure()\n",
    "ax = fig.add_subplot(111)\n",
    "ax.plot(hypercolumns_vector, p05_vector_hypercolumns, 'o-', lw=lw, ms=ms)\n",
    "\n",
    "ax.set_xlabel('hypercolumns')\n",
    "ax.set_ylabel(r'$p_{50}$')\n",
    "\n",
    "\n",
    "ax.set_ylim([0.0, 1.0])\n",
    "ax.axhline(0.5, ls='--', color='gray')\n",
    "ax.axhline(0, ls='--', color='gray')\n",
    "ax.axvline(0, ls='--', color='gray');"
   ]
  },
  {
   "cell_type": "markdown",
   "metadata": {
    "collapsed": true
   },
   "source": [
    "# Finding the p50 by PBA"
   ]
  },
  {
   "cell_type": "markdown",
   "metadata": {},
   "source": [
    "## Some calculations"
   ]
  },
  {
   "cell_type": "markdown",
   "metadata": {},
   "source": [
    "### An example"
   ]
  },
  {
   "cell_type": "code",
   "execution_count": 100,
   "metadata": {
    "collapsed": true
   },
   "outputs": [],
   "source": [
    "strict_maximum = True\n",
    "\n",
    "g_a = 1.0\n",
    "g_I = 1.0\n",
    "tau_a = 0.250\n",
    "G = 100.0\n",
    "sigma_out = 0.0\n",
    "tau_s = 0.010\n",
    "tau_z_pre = 0.025\n",
    "tau_z_post = 0.005\n",
    "\n",
    "hypercolumns = 1\n",
    "minicolumns = 5\n",
    "n_patterns = minicolumns\n",
    "\n",
    "# Training\n",
    "ws = 1.0\n",
    "wn = 0.0\n",
    "wb = -20.0\n",
    "alpha = 1.0\n",
    "\n",
    "T_persistence = 0.080\n",
    "\n",
    "\n",
    "# Manager properties\n",
    "dt = 0.001\n",
    "values_to_save = ['o']\n",
    "\n",
    "# Neural Network\n",
    "nn = Network(hypercolumns, minicolumns, G=G, tau_s=tau_s, tau_z_pre=tau_z_pre, tau_z_post=tau_z_post,\n",
    "                 tau_a=tau_a, g_a=g_a, g_I=g_I, sigma_out=sigma_out, epsilon=epsilon, prng=np.random,\n",
    "                 strict_maximum=strict_maximum, perfect=False, normalized_currents=True)\n",
    "\n",
    "# Build the manager\n",
    "manager = NetworkManager(nn=nn, dt=dt, values_to_save=values_to_save)\n",
    "\n",
    "# Protocol\n",
    "manager.run_artificial_protocol(ws=ws, wn=wn, wb=wb ,alpha=alpha)\n",
    "\n",
    "manager.set_persistent_time_with_adaptation_gain(T_persistence=T_persistence)\n",
    "T_recall = T_persistence \n",
    "T_cue = tau_s\n",
    "I_cue = 0\n",
    "nr = manager.canonical_network_representation\n",
    "aux = calculate_recall_quantities(manager, nr, T_recall, T_cue, remove=0.009, reset=True, empty_history=True)\n",
    "success, pattern_sequence, persistent_times, timings = aux"
   ]
  },
  {
   "cell_type": "code",
   "execution_count": 101,
   "metadata": {},
   "outputs": [
    {
     "name": "stdout",
     "output_type": "stream",
     "text": [
      "8.0\n",
      "CPU times: user 3.16 s, sys: 12 ms, total: 3.17 s\n",
      "Wall time: 3.18 s\n"
     ]
    }
   ],
   "source": [
    "%%time\n",
    "n_samples = 20\n",
    "length = ws - (wn - alpha)\n",
    "T_recall = T_persistence * manager.nn.minicolumns + tau_s\n",
    "number = find_right_length(length, manager, n_samples, T_recall)\n",
    "print(length * number)"
   ]
  },
  {
   "cell_type": "code",
   "execution_count": 102,
   "metadata": {},
   "outputs": [
    {
     "name": "stdout",
     "output_type": "stream",
     "text": [
      "0.25\n"
     ]
    }
   ],
   "source": [
    "success_rate = find_success_rate(manager, T_recall=T_recall, n_samples=n_samples, sigma_out=length * number)\n",
    "print(success_rate)"
   ]
  },
  {
   "cell_type": "code",
   "execution_count": 103,
   "metadata": {
    "collapsed": true
   },
   "outputs": [],
   "source": [
    "pc = 0.6\n",
    "\n",
    "safety_factor = 0.5\n",
    "distribution_sampling = 0.01\n",
    "start_point = (number - 1 - safety_factor) * length\n",
    "end_point = (number + safety_factor) * length\n",
    "support = np.arange(start_point, end_point + distribution_sampling, distribution_sampling)\n",
    "f0 = np.ones(support.size)\n",
    "f0 /= f0.sum()\n",
    "\n",
    "f = f0\n",
    "F = np.cumsum(f)"
   ]
  },
  {
   "cell_type": "code",
   "execution_count": 104,
   "metadata": {},
   "outputs": [
    {
     "data": {
      "image/png": "[encoded data removed]",
      "text/plain": [
       "<Figure size 576x432 with 2 Axes>"
      ]
     },
     "metadata": {},
     "output_type": "display_data"
    }
   ],
   "source": [
    "fig = plt.figure()\n",
    "ax1 = fig.add_subplot(121)\n",
    "ax1.plot(support, f, 'o-')\n",
    "\n",
    "#ax.set_ylim([-0.1, 1.1])\n",
    "\n",
    "ax1.axhline(0, ls='--', color='gray')\n",
    "# ax1.axvline(0, ls='--', color='gray')\n",
    "ax1.axvline(start_point, ls='--', color='red');\n",
    "ax1.axvline(end_point, ls='--', color='red');\n",
    "\n",
    "ax2 = fig.add_subplot(122)\n",
    "ax2.plot(support, F, 'o-')\n",
    "\n",
    "#ax.set_ylim([-0.1, 1.1])\n",
    "\n",
    "ax2.axhline(0, ls='--', color='gray')\n",
    "# ax2.axvline(0, ls='--', color='gray')\n",
    "ax2.axhline(0.5, ls='--', color='gray')\n",
    "ax2.axvline(start_point + 0.5 * length, ls='-', color='red')\n",
    "ax2.axvline(start_point, ls='--', color='red');\n",
    "ax2.axvline(end_point, ls='--', color='red');"
   ]
  },
  {
   "cell_type": "code",
   "execution_count": 105,
   "metadata": {},
   "outputs": [
    {
     "name": "stdout",
     "output_type": "stream",
     "text": [
      "end\n",
      "5.79 -0.09999999999999998\n",
      "CPU times: user 41.6 s, sys: 4 ms, total: 41.6 s\n",
      "Wall time: 41.7 s\n"
     ]
    }
   ],
   "source": [
    "%%time\n",
    "iterations = 100\n",
    "n_samples = 10\n",
    "verbose = True\n",
    "for i in range(iterations):\n",
    "    f, F, x_n, y_n, z_n = update_step(f, pc, manager, T_recall, n_samples, start_point, distribution_sampling)\n",
    "    if verbose:\n",
    "        print('iteration', i)\n",
    "        print('x_n', x_n)\n",
    "        print('y_n', y_n)\n",
    "        print('z_n', z_n)\n",
    "        print('-----')\n",
    "\n",
    "print(end)\n",
    "print(x_n, y_n)"
   ]
  },
  {
   "cell_type": "code",
   "execution_count": 106,
   "metadata": {},
   "outputs": [
    {
     "data": {
      "image/png": "[encoded data removed]",
      "text/plain": [
       "<Figure size 576x432 with 2 Axes>"
      ]
     },
     "metadata": {},
     "output_type": "display_data"
    }
   ],
   "source": [
    "fig = plt.figure()\n",
    "ax1 = fig.add_subplot(121)\n",
    "ax1.plot(support, f, 'o-')\n",
    "\n",
    "#ax.set_ylim([-0.1, 1.1])\n",
    "\n",
    "ax1.axhline(0, ls='--', color='gray')\n",
    "# ax1.axvline(0, ls='--', color='gray')\n",
    "ax1.axvline(start_point, ls='--', color='red');\n",
    "ax1.axvline(end_point, ls='--', color='red');\n",
    "\n",
    "ax2 = fig.add_subplot(122)\n",
    "ax2.plot(support, F, 'o-')\n",
    "\n",
    "#ax.set_ylim([-0.1, 1.1])\n",
    "\n",
    "ax2.axhline(0, ls='--', color='gray')\n",
    "# ax2.axvline(0, ls='--', color='gray')\n",
    "ax2.axhline(0.5, ls='--', color='gray')\n",
    "ax2.axvline(start_point + 0.5 * length, ls='-', color='red')\n",
    "ax2.axvline(start_point, ls='--', color='red');\n",
    "ax2.axvline(end_point, ls='--', color='red');"
   ]
  },
  {
   "cell_type": "markdown",
   "metadata": {},
   "source": [
    "## Systematic calculations"
   ]
  },
  {
   "cell_type": "markdown",
   "metadata": {},
   "source": [
    "### Alpha"
   ]
  },
  {
   "cell_type": "code",
   "execution_count": 131,
   "metadata": {},
   "outputs": [
    {
     "name": "stdout",
     "output_type": "stream",
     "text": [
      "alpha 0.5 index 0\n",
      "iteration 0\n",
      "x_n 3.0\n",
      "y_n 0.10999999999999999\n",
      "z_n 1.0\n",
      "-----\n",
      "iteration 1\n",
      "x_n 3.25\n",
      "y_n 0.010000000000000009\n",
      "z_n 1.0\n",
      "-----\n",
      "iteration 2\n",
      "x_n 3.46\n",
      "y_n -0.03199999999999997\n",
      "z_n -1.0\n",
      "-----\n",
      "iteration 3\n",
      "x_n 3.285\n",
      "y_n -0.010000000000000009\n",
      "z_n -1.0\n",
      "-----\n",
      "iteration 4\n",
      "x_n 3.085\n",
      "y_n 0.07999999999999996\n",
      "z_n 1.0\n",
      "-----\n",
      "iteration 5\n",
      "x_n 3.26\n",
      "y_n -0.016000000000000014\n",
      "z_n -1.0\n",
      "-----\n",
      "iteration 6\n",
      "x_n 3.115\n",
      "y_n 0.030000000000000027\n",
      "z_n 1.0\n",
      "-----\n",
      "iteration 7\n",
      "x_n 3.24\n",
      "y_n 0.052000000000000046\n",
      "z_n 1.0\n",
      "-----\n",
      "iteration 8\n",
      "x_n 3.365\n",
      "y_n 0.008000000000000007\n",
      "z_n 1.0\n",
      "-----\n",
      "iteration 9\n",
      "x_n 3.52\n",
      "y_n -0.006000000000000005\n",
      "z_n -1.0\n",
      "-----\n",
      "iteration 10\n",
      "x_n 3.39\n",
      "y_n -0.010000000000000009\n",
      "z_n -1.0\n",
      "-----\n",
      "iteration 11\n",
      "x_n 3.27\n",
      "y_n 0.06799999999999995\n",
      "z_n 1.0\n",
      "-----\n",
      "iteration 12\n",
      "x_n 3.37\n",
      "y_n -0.0040000000000000036\n",
      "z_n -1.0\n",
      "-----\n",
      "iteration 13\n",
      "x_n 3.2800000000000002\n",
      "y_n -0.02400000000000002\n",
      "z_n -1.0\n",
      "-----\n",
      "iteration 14\n",
      "x_n 3.2\n",
      "y_n 0.014000000000000012\n",
      "z_n 1.0\n",
      "-----\n",
      "iteration 15\n",
      "x_n 3.27\n",
      "y_n 0.05800000000000005\n",
      "z_n 1.0\n",
      "-----\n",
      "iteration 16\n",
      "x_n 3.3449999999999998\n",
      "y_n 0.0\n",
      "z_n 0.0\n",
      "-----\n",
      "iteration 17\n",
      "x_n 3.42\n",
      "y_n 0.0040000000000000036\n",
      "z_n 1.0\n",
      "-----\n",
      "iteration 18\n",
      "x_n 3.535\n",
      "y_n -0.064\n",
      "z_n -1.0\n",
      "-----\n",
      "iteration 19\n",
      "x_n 3.435\n",
      "y_n 0.020000000000000018\n",
      "z_n 1.0\n",
      "-----\n",
      "iteration 20\n",
      "x_n 3.5100000000000002\n",
      "y_n -0.035999999999999976\n",
      "z_n -1.0\n",
      "-----\n",
      "iteration 21\n",
      "x_n 3.4450000000000003\n",
      "y_n -0.02400000000000002\n",
      "z_n -1.0\n",
      "-----\n",
      "iteration 22\n",
      "x_n 3.375\n",
      "y_n 0.01200000000000001\n",
      "z_n 1.0\n",
      "-----\n",
      "iteration 23\n",
      "x_n 3.435\n",
      "y_n 0.008000000000000007\n",
      "z_n 1.0\n",
      "-----\n",
      "iteration 24\n",
      "x_n 3.4850000000000003\n",
      "y_n -0.02400000000000002\n",
      "z_n -1.0\n",
      "-----\n",
      "iteration 25\n",
      "x_n 3.44\n",
      "y_n -0.03799999999999998\n",
      "z_n -1.0\n",
      "-----\n",
      "iteration 26\n",
      "x_n 3.395\n",
      "y_n -0.014000000000000012\n",
      "z_n -1.0\n",
      "-----\n",
      "iteration 27\n",
      "x_n 3.35\n",
      "y_n -0.014000000000000012\n",
      "z_n -1.0\n",
      "-----\n",
      "iteration 28\n",
      "x_n 3.2800000000000002\n",
      "y_n 0.006000000000000005\n",
      "z_n 1.0\n",
      "-----\n",
      "iteration 29\n",
      "x_n 3.34\n",
      "y_n 0.03200000000000003\n",
      "z_n 1.0\n",
      "-----\n",
      "--------\n",
      "alpha 12.875 index 1\n",
      "iteration 0\n",
      "x_n 47.0\n",
      "y_n 0.020000000000000018\n",
      "z_n 1.0\n",
      "-----\n",
      "iteration 1\n",
      "x_n 47.255\n",
      "y_n 0.040000000000000036\n",
      "z_n 1.0\n",
      "-----\n",
      "iteration 2\n",
      "x_n 47.46\n",
      "y_n 0.028000000000000025\n",
      "z_n 1.0\n",
      "-----\n",
      "iteration 3\n",
      "x_n 47.635\n",
      "y_n 0.014000000000000012\n",
      "z_n 1.0\n",
      "-----\n",
      "iteration 4\n",
      "x_n 47.78\n",
      "y_n 0.0\n",
      "z_n 0.0\n",
      "-----\n",
      "iteration 5\n",
      "x_n 47.9\n",
      "y_n 0.018000000000000016\n",
      "z_n 1.0\n",
      "-----\n",
      "iteration 6\n",
      "x_n 48.0\n",
      "y_n -0.010000000000000009\n",
      "z_n -1.0\n",
      "-----\n",
      "iteration 7\n",
      "x_n 47.915\n",
      "y_n 0.016000000000000014\n",
      "z_n 1.0\n",
      "-----\n",
      "iteration 8\n",
      "x_n 47.985\n",
      "y_n 0.010000000000000009\n",
      "z_n 1.0\n",
      "-----\n",
      "iteration 9\n",
      "x_n 48.065\n",
      "y_n 0.02200000000000002\n",
      "z_n 1.0\n",
      "-----\n",
      "iteration 10\n",
      "x_n 48.14\n",
      "y_n -0.03799999999999998\n",
      "z_n -1.0\n",
      "-----\n",
      "iteration 11\n",
      "x_n 48.08\n",
      "y_n 0.03400000000000003\n",
      "z_n 1.0\n",
      "-----\n",
      "iteration 12\n",
      "x_n 48.13\n",
      "y_n 0.016000000000000014\n",
      "z_n 1.0\n",
      "-----\n",
      "iteration 13\n",
      "x_n 48.19\n",
      "y_n -0.006000000000000005\n",
      "z_n -1.0\n",
      "-----\n",
      "iteration 14\n",
      "x_n 48.135\n",
      "y_n 0.03200000000000003\n",
      "z_n 1.0\n",
      "-----\n",
      "iteration 15\n",
      "x_n 48.18\n",
      "y_n 0.040000000000000036\n",
      "z_n 1.0\n",
      "-----\n",
      "iteration 16\n",
      "x_n 48.23\n",
      "y_n 0.05600000000000005\n",
      "z_n 1.0\n",
      "-----\n",
      "iteration 17\n",
      "x_n 48.275\n",
      "y_n 0.010000000000000009\n",
      "z_n 1.0\n",
      "-----\n",
      "iteration 18\n",
      "x_n 48.315\n",
      "y_n -0.02200000000000002\n",
      "z_n -1.0\n",
      "-----\n",
      "iteration 19\n",
      "x_n 48.28\n",
      "y_n 0.06599999999999995\n",
      "z_n 1.0\n",
      "-----\n",
      "iteration 20\n",
      "x_n 48.305\n",
      "y_n 0.03600000000000003\n",
      "z_n 1.0\n",
      "-----\n",
      "iteration 21\n",
      "x_n 48.335\n",
      "y_n -0.0040000000000000036\n",
      "z_n -1.0\n",
      "-----\n",
      "iteration 22\n",
      "x_n 48.31\n",
      "y_n 0.030000000000000027\n",
      "z_n 1.0\n",
      "-----\n",
      "iteration 23\n",
      "x_n 48.33\n",
      "y_n 0.05600000000000005\n",
      "z_n 1.0\n",
      "-----\n",
      "iteration 24\n",
      "x_n 48.36\n",
      "y_n 0.008000000000000007\n",
      "z_n 1.0\n",
      "-----\n",
      "iteration 25\n",
      "x_n 48.385\n",
      "y_n 0.028000000000000025\n",
      "z_n 1.0\n",
      "-----\n",
      "iteration 26\n",
      "x_n 48.405\n",
      "y_n -0.010000000000000009\n",
      "z_n -1.0\n",
      "-----\n",
      "iteration 27\n",
      "x_n 48.385\n",
      "y_n 0.014000000000000012\n",
      "z_n 1.0\n",
      "-----\n",
      "iteration 28\n",
      "x_n 48.4\n",
      "y_n 0.0040000000000000036\n",
      "z_n 1.0\n",
      "-----\n",
      "iteration 29\n",
      "x_n 48.415\n",
      "y_n 0.006000000000000005\n",
      "z_n 1.0\n",
      "-----\n",
      "--------\n",
      "alpha 25.25 index 2\n",
      "iteration 0\n",
      "x_n 77.0\n",
      "y_n -0.014000000000000012\n",
      "z_n -1.0\n",
      "-----\n",
      "iteration 1\n",
      "x_n 76.75\n",
      "y_n -0.057999999999999996\n",
      "z_n -1.0\n",
      "-----\n",
      "iteration 2\n",
      "x_n 76.54\n",
      "y_n -0.016000000000000014\n",
      "z_n -1.0\n",
      "-----\n",
      "iteration 3\n",
      "x_n 76.365\n",
      "y_n -0.030000000000000027\n",
      "z_n -1.0\n",
      "-----\n",
      "iteration 4\n",
      "x_n 76.22\n",
      "y_n -0.04999999999999999\n",
      "z_n -1.0\n",
      "-----\n",
      "iteration 5\n",
      "x_n 76.1\n",
      "y_n -0.062\n",
      "z_n -1.0\n",
      "-----\n",
      "iteration 6\n",
      "x_n 76.0\n",
      "y_n -0.014000000000000012\n",
      "z_n -1.0\n",
      "-----\n",
      "iteration 7\n",
      "x_n 75.915\n",
      "y_n -0.02200000000000002\n",
      "z_n -1.0\n",
      "-----\n",
      "iteration 8\n",
      "x_n 75.845\n",
      "y_n -0.02200000000000002\n",
      "z_n -1.0\n",
      "-----\n",
      "iteration 9\n",
      "x_n 75.785\n",
      "y_n -0.018000000000000016\n",
      "z_n -1.0\n",
      "-----\n",
      "iteration 10\n",
      "x_n 75.74\n",
      "y_n -0.014000000000000012\n",
      "z_n -1.0\n",
      "-----\n",
      "iteration 11\n",
      "x_n 75.7\n",
      "y_n -0.030000000000000027\n",
      "z_n -1.0\n",
      "-----\n",
      "iteration 12\n",
      "x_n 75.665\n",
      "y_n -0.055999999999999994\n",
      "z_n -1.0\n",
      "-----\n",
      "iteration 13\n",
      "x_n 75.635\n",
      "y_n -0.016000000000000014\n",
      "z_n -1.0\n",
      "-----\n",
      "iteration 14\n",
      "x_n 75.61\n",
      "y_n 0.0020000000000000018\n",
      "z_n 1.0\n",
      "-----\n",
      "iteration 15\n",
      "x_n 75.63\n",
      "y_n 0.014000000000000012\n",
      "z_n 1.0\n",
      "-----\n",
      "iteration 16\n",
      "x_n 75.655\n",
      "y_n -0.028000000000000025\n",
      "z_n -1.0\n",
      "-----\n",
      "iteration 17\n",
      "x_n 75.635\n",
      "y_n -0.033999999999999975\n",
      "z_n -1.0\n",
      "-----\n",
      "iteration 18\n",
      "x_n 75.62\n",
      "y_n -0.01200000000000001\n",
      "z_n -1.0\n",
      "-----\n",
      "iteration 19\n",
      "x_n 75.605\n",
      "y_n 0.0020000000000000018\n",
      "z_n 1.0\n",
      "-----\n",
      "iteration 20\n",
      "x_n 75.615\n",
      "y_n 0.04400000000000004\n",
      "z_n 1.0\n",
      "-----\n",
      "iteration 21\n",
      "x_n 75.63\n",
      "y_n -0.010000000000000009\n",
      "z_n -1.0\n",
      "-----\n",
      "iteration 22\n",
      "x_n 75.615\n",
      "y_n -0.006000000000000005\n",
      "z_n -1.0\n",
      "-----\n",
      "iteration 23\n",
      "x_n 75.61\n",
      "y_n -0.01200000000000001\n",
      "z_n -1.0\n",
      "-----\n",
      "iteration 24\n",
      "x_n 75.59\n",
      "y_n -0.006000000000000005\n",
      "z_n -1.0\n",
      "-----\n",
      "iteration 25\n",
      "x_n 75.575\n",
      "y_n 0.01200000000000001\n",
      "z_n 1.0\n",
      "-----\n",
      "iteration 26\n",
      "x_n 75.59\n",
      "y_n -0.010000000000000009\n",
      "z_n -1.0\n",
      "-----\n",
      "iteration 27\n",
      "x_n 75.575\n",
      "y_n 0.008000000000000007\n",
      "z_n 1.0\n",
      "-----\n",
      "iteration 28\n",
      "x_n 75.585\n",
      "y_n -0.014000000000000012\n",
      "z_n -1.0\n",
      "-----\n",
      "iteration 29\n",
      "x_n 75.575\n",
      "y_n -0.030000000000000027\n",
      "z_n -1.0\n",
      "-----\n",
      "--------\n",
      "alpha 37.625 index 3\n",
      "iteration 0\n",
      "x_n 75.0\n",
      "y_n 0.134\n",
      "z_n 1.0\n",
      "-----\n",
      "iteration 1\n",
      "x_n 75.25\n",
      "y_n 0.126\n",
      "z_n 1.0\n",
      "-----\n",
      "iteration 2\n",
      "x_n 75.46\n",
      "y_n 0.11199999999999999\n",
      "z_n 1.0\n",
      "-----\n",
      "iteration 3\n",
      "x_n 75.63\n",
      "y_n 0.14600000000000002\n",
      "z_n 1.0\n",
      "-----\n",
      "iteration 4\n",
      "x_n 75.775\n",
      "y_n 0.10599999999999998\n",
      "z_n 1.0\n",
      "-----\n",
      "iteration 5\n",
      "x_n 75.895\n",
      "y_n 0.08399999999999996\n",
      "z_n 1.0\n",
      "-----\n",
      "iteration 6\n",
      "x_n 75.995\n",
      "y_n 0.124\n",
      "z_n 1.0\n",
      "-----\n",
      "iteration 7\n",
      "x_n 76.08\n",
      "y_n 0.132\n",
      "z_n 1.0\n",
      "-----\n",
      "iteration 8\n",
      "x_n 76.15\n",
      "y_n 0.10399999999999998\n",
      "z_n 1.0\n",
      "-----\n",
      "iteration 9\n",
      "x_n 76.21\n",
      "y_n 0.122\n",
      "z_n 1.0\n",
      "-----\n",
      "iteration 10\n",
      "x_n 76.255\n",
      "y_n 0.14\n",
      "z_n 1.0\n",
      "-----\n",
      "iteration 11\n",
      "x_n 76.295\n",
      "y_n 0.138\n",
      "z_n 1.0\n",
      "-----\n",
      "iteration 12\n",
      "x_n 76.33\n",
      "y_n 0.10599999999999998\n",
      "z_n 1.0\n",
      "-----\n",
      "iteration 13\n",
      "x_n 76.36\n",
      "y_n 0.12\n",
      "z_n 1.0\n",
      "-----\n",
      "iteration 14\n",
      "x_n 76.385\n",
      "y_n 0.10799999999999998\n",
      "z_n 1.0\n",
      "-----\n",
      "iteration 15\n",
      "x_n 76.405\n",
      "y_n 0.09999999999999998\n",
      "z_n 1.0\n",
      "-----\n",
      "iteration 16\n",
      "x_n 76.42\n",
      "y_n 0.10599999999999998\n",
      "z_n 1.0\n",
      "-----\n",
      "iteration 17\n",
      "x_n 76.435\n",
      "y_n 0.14400000000000002\n",
      "z_n 1.0\n",
      "-----\n",
      "iteration 18\n",
      "x_n 76.445\n",
      "y_n 0.11399999999999999\n",
      "z_n 1.0\n",
      "-----\n",
      "iteration 19\n",
      "x_n 76.455\n",
      "y_n 0.09799999999999998\n",
      "z_n 1.0\n",
      "-----\n",
      "iteration 20\n",
      "x_n 76.46\n",
      "y_n 0.08199999999999996\n",
      "z_n 1.0\n",
      "-----\n",
      "iteration 21\n",
      "x_n 76.47\n",
      "y_n 0.06799999999999995\n",
      "z_n 1.0\n",
      "-----\n",
      "iteration 22\n",
      "x_n 76.475\n",
      "y_n 0.050000000000000044\n",
      "z_n 1.0\n",
      "-----\n",
      "iteration 23\n",
      "x_n 76.48\n",
      "y_n 0.11399999999999999\n",
      "z_n 1.0\n",
      "-----\n",
      "iteration 24\n",
      "x_n 76.48\n",
      "y_n 0.134\n",
      "z_n 1.0\n",
      "-----\n",
      "iteration 25\n",
      "x_n 76.485\n",
      "y_n 0.124\n",
      "z_n 1.0\n",
      "-----\n",
      "iteration 26\n",
      "x_n 76.485\n",
      "y_n 0.08399999999999996\n",
      "z_n 1.0\n",
      "-----\n",
      "iteration 27\n",
      "x_n 76.49\n",
      "y_n 0.09399999999999997\n",
      "z_n 1.0\n",
      "-----\n",
      "iteration 28\n",
      "x_n 76.49\n",
      "y_n 0.126\n",
      "z_n 1.0\n",
      "-----\n",
      "iteration 29\n",
      "x_n 76.49\n",
      "y_n 0.13\n",
      "z_n 1.0\n",
      "-----\n",
      "--------\n",
      "alpha 50.0 index 4\n",
      "iteration 0\n",
      "x_n 81.0\n",
      "y_n 0.06399999999999995\n",
      "z_n 1.0\n",
      "-----\n",
      "iteration 1\n",
      "x_n 81.25\n",
      "y_n 0.11199999999999999\n",
      "z_n 1.0\n",
      "-----\n",
      "iteration 2\n",
      "x_n 81.46\n",
      "y_n 0.12\n",
      "z_n 1.0\n",
      "-----\n",
      "iteration 3\n",
      "x_n 81.63\n",
      "y_n 0.09799999999999998\n",
      "z_n 1.0\n",
      "-----\n",
      "iteration 4\n",
      "x_n 81.775\n",
      "y_n 0.128\n",
      "z_n 1.0\n",
      "-----\n",
      "iteration 5\n",
      "x_n 81.895\n",
      "y_n 0.11399999999999999\n",
      "z_n 1.0\n",
      "-----\n",
      "iteration 6\n",
      "x_n 81.995\n",
      "y_n 0.09799999999999998\n",
      "z_n 1.0\n",
      "-----\n",
      "iteration 7\n",
      "x_n 82.08\n",
      "y_n 0.10999999999999999\n",
      "z_n 1.0\n",
      "-----\n",
      "iteration 8\n",
      "x_n 82.15\n",
      "y_n 0.10799999999999998\n",
      "z_n 1.0\n",
      "-----\n",
      "iteration 9\n",
      "x_n 82.21\n",
      "y_n 0.11199999999999999\n",
      "z_n 1.0\n",
      "-----\n",
      "iteration 10\n",
      "x_n 82.255\n",
      "y_n 0.126\n",
      "z_n 1.0\n",
      "-----\n",
      "iteration 11\n",
      "x_n 82.295\n",
      "y_n 0.05400000000000005\n",
      "z_n 1.0\n",
      "-----\n",
      "iteration 12\n",
      "x_n 82.33\n",
      "y_n 0.10599999999999998\n",
      "z_n 1.0\n",
      "-----\n",
      "iteration 13\n",
      "x_n 82.36\n",
      "y_n 0.126\n",
      "z_n 1.0\n",
      "-----\n"
     ]
    },
    {
     "name": "stdout",
     "output_type": "stream",
     "text": [
      "iteration 14\n",
      "x_n 82.385\n",
      "y_n 0.08799999999999997\n",
      "z_n 1.0\n",
      "-----\n",
      "iteration 15\n",
      "x_n 82.405\n",
      "y_n 0.06999999999999995\n",
      "z_n 1.0\n",
      "-----\n",
      "iteration 16\n",
      "x_n 82.42\n",
      "y_n 0.03200000000000003\n",
      "z_n 1.0\n",
      "-----\n",
      "iteration 17\n",
      "x_n 82.435\n",
      "y_n 0.08599999999999997\n",
      "z_n 1.0\n",
      "-----\n",
      "iteration 18\n",
      "x_n 82.445\n",
      "y_n 0.10599999999999998\n",
      "z_n 1.0\n",
      "-----\n",
      "iteration 19\n",
      "x_n 82.455\n",
      "y_n 0.07799999999999996\n",
      "z_n 1.0\n",
      "-----\n",
      "iteration 20\n",
      "x_n 82.46\n",
      "y_n 0.09399999999999997\n",
      "z_n 1.0\n",
      "-----\n",
      "iteration 21\n",
      "x_n 82.47\n",
      "y_n 0.09599999999999997\n",
      "z_n 1.0\n",
      "-----\n",
      "iteration 22\n",
      "x_n 82.475\n",
      "y_n 0.05400000000000005\n",
      "z_n 1.0\n",
      "-----\n",
      "iteration 23\n",
      "x_n 82.48\n",
      "y_n 0.07999999999999996\n",
      "z_n 1.0\n",
      "-----\n",
      "iteration 24\n",
      "x_n 82.48\n",
      "y_n 0.06399999999999995\n",
      "z_n 1.0\n",
      "-----\n",
      "iteration 25\n",
      "x_n 82.485\n",
      "y_n 0.09599999999999997\n",
      "z_n 1.0\n",
      "-----\n",
      "iteration 26\n",
      "x_n 82.485\n",
      "y_n 0.10399999999999998\n",
      "z_n 1.0\n",
      "-----\n",
      "iteration 27\n",
      "x_n 82.49\n",
      "y_n 0.07999999999999996\n",
      "z_n 1.0\n",
      "-----\n",
      "iteration 28\n",
      "x_n 82.49\n",
      "y_n 0.07599999999999996\n",
      "z_n 1.0\n",
      "-----\n",
      "iteration 29\n",
      "x_n 82.49\n",
      "y_n 0.07999999999999996\n",
      "z_n 1.0\n",
      "-----\n",
      "--------\n",
      "CPU times: user 32min 6s, sys: 560 ms, total: 32min 7s\n",
      "Wall time: 32min 8s\n"
     ]
    }
   ],
   "source": [
    "%%time\n",
    "alpha_num = 5\n",
    "alpha_vector = np.linspace(0.5, 50, num=alpha_num)\n",
    "sigma05_vector = np.zeros(alpha_num)\n",
    "p05_vector = np.zeros(alpha_num)\n",
    "\n",
    "\n",
    "ws = 1.0\n",
    "wn = 0.0\n",
    "wb = -20.0\n",
    "alpha = 1.0\n",
    "minicolumns = 5\n",
    "hypercolumns = 1\n",
    "T_persistence = 0.050\n",
    "n_samples = 500\n",
    "iterations = 30\n",
    "\n",
    "for index, alpha in enumerate(alpha_vector):\n",
    "    print('alpha', alpha, 'index', index)\n",
    "    sigma05, p05 = find_p50_pba(ws, wn, wb, alpha, minicolumns, hypercolumns, T_persistence, n_samples=n_samples, iterations=iterations, pc=0.6, safety_factor=0.25, distribution_sampling=0.005, verbose=True)\n",
    "    print('--------')\n",
    "    sigma05_vector[index] = sigma05\n",
    "    p05_vector[index] = p05"
   ]
  },
  {
   "cell_type": "code",
   "execution_count": 132,
   "metadata": {},
   "outputs": [
    {
     "data": {
      "image/png": "[encoded data removed]",
      "text/plain": [
       "<Figure size 576x432 with 1 Axes>"
      ]
     },
     "metadata": {},
     "output_type": "display_data"
    }
   ],
   "source": [
    "lw = 8\n",
    "ms = 15\n",
    "\n",
    "fig = plt.figure()\n",
    "ax = fig.add_subplot(111)\n",
    "ax.plot(alpha_vector, sigma05_vector, 'o-', lw=lw, ms=ms)\n",
    "\n",
    "ax.set_xlabel(r'$\\alpha$')\n",
    "ax.set_ylabel(r'$\\sigma_{50}$')\n",
    "\n",
    "ax.axhline(0, ls='--', color='gray')\n",
    "ax.axvline(0, ls='--', color='gray');"
   ]
  },
  {
   "cell_type": "code",
   "execution_count": 133,
   "metadata": {},
   "outputs": [
    {
     "data": {
      "image/png": "[encoded data removed]",
      "text/plain": [
       "<Figure size 576x432 with 1 Axes>"
      ]
     },
     "metadata": {},
     "output_type": "display_data"
    }
   ],
   "source": [
    "lw = 8\n",
    "ms = 15\n",
    "\n",
    "fig = plt.figure()\n",
    "ax = fig.add_subplot(111)\n",
    "ax.plot(alpha_vector, p05_vector, 'o-', lw=lw, ms=ms)\n",
    "\n",
    "ax.set_xlabel(r'$\\alpha$')\n",
    "ax.set_ylabel(r'$p_{50}$')\n",
    "\n",
    "ax.set_ylim([0.0, 1.0])\n",
    "ax.axhline(0.5, ls='--', color='gray')\n",
    "ax.axhline(0, ls='--', color='gray')\n",
    "ax.axvline(0, ls='--', color='gray');"
   ]
  },
  {
   "cell_type": "markdown",
   "metadata": {
    "collapsed": true
   },
   "source": [
    "$ds / dt = current - s  + noise$"
   ]
  },
  {
   "cell_type": "markdown",
   "metadata": {},
   "source": [
    "s[t + 1] =s[t] + dt (current - s ) + sigma *  sample_a_gaussian_at_every_point\n",
    "\n",
    "s[t + 1] = s[t] + dt(current - s) + np.sqrt(dt) * sigma * sample_a_gaussian_at_every_point"
   ]
  }
 ],
 "metadata": {
  "kernelspec": {
   "display_name": "Python 3",
   "language": "python",
   "name": "python3"
  },
  "language_info": {
   "codemirror_mode": {
    "name": "ipython",
    "version": 3
   },
   "file_extension": ".py",
   "mimetype": "text/x-python",
   "name": "python",
   "nbconvert_exporter": "python",
   "pygments_lexer": "ipython3",
   "version": "3.7.0"
  },
  "toc": {
   "base_numbering": "0",
   "nav_menu": {},
   "number_sections": true,
   "sideBar": true,
   "skip_h1_title": false,
   "title_cell": "Table of Contents",
   "title_sidebar": "Contents",
   "toc_cell": true,
   "toc_position": {
    "height": "calc(100% - 180px)",
    "left": "10px",
    "top": "150px",
    "width": "246.989px"
   },
   "toc_section_display": true,
   "toc_window_display": true
  }
 },
 "nbformat": 4,
 "nbformat_minor": 2
}

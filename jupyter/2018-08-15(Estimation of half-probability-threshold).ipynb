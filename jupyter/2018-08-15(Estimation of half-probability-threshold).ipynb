{
 "cells": [
  {
   "cell_type": "markdown",
   "metadata": {
    "toc": true
   },
   "source": [
    "<h1>Table of Contents<span class=\"tocSkip\"></span></h1>\n",
    "<div class=\"toc\"><ul class=\"toc-item\"><li><span><a href=\"#Preamble\" data-toc-modified-id=\"Preamble-1\"><span class=\"toc-item-num\">1&nbsp;&nbsp;</span>Preamble</a></span><ul class=\"toc-item\"><li><span><a href=\"#Settings,-Setup-and-Libraries\" data-toc-modified-id=\"Settings,-Setup-and-Libraries-1.1\"><span class=\"toc-item-num\">1.1&nbsp;&nbsp;</span>Settings, Setup and Libraries</a></span></li><li><span><a href=\"#Functions\" data-toc-modified-id=\"Functions-1.2\"><span class=\"toc-item-num\">1.2&nbsp;&nbsp;</span>Functions</a></span><ul class=\"toc-item\"><li><ul class=\"toc-item\"><li><span><a href=\"#Find-success-rate\" data-toc-modified-id=\"Find-success-rate-1.2.0.1\"><span class=\"toc-item-num\">1.2.0.1&nbsp;&nbsp;</span>Find success rate</a></span></li><li><span><a href=\"#Find-the-length\" data-toc-modified-id=\"Find-the-length-1.2.0.2\"><span class=\"toc-item-num\">1.2.0.2&nbsp;&nbsp;</span>Find the length</a></span></li><li><span><a href=\"#Find-root\" data-toc-modified-id=\"Find-root-1.2.0.3\"><span class=\"toc-item-num\">1.2.0.3&nbsp;&nbsp;</span>Find root</a></span></li><li><span><a href=\"#Function-from-parameters-to-p50\" data-toc-modified-id=\"Function-from-parameters-to-p50-1.2.0.4\"><span class=\"toc-item-num\">1.2.0.4&nbsp;&nbsp;</span>Function from parameters to p50</a></span></li></ul></li></ul></li></ul></li><li><span><a href=\"#Finding-the-p50-probability-calculations\" data-toc-modified-id=\"Finding-the-p50-probability-calculations-2\"><span class=\"toc-item-num\">2&nbsp;&nbsp;</span>Finding the p50 probability calculations</a></span><ul class=\"toc-item\"><li><span><a href=\"#Doing-the-calculations-for-examples\" data-toc-modified-id=\"Doing-the-calculations-for-examples-2.1\"><span class=\"toc-item-num\">2.1&nbsp;&nbsp;</span>Doing the calculations for examples</a></span><ul class=\"toc-item\"><li><ul class=\"toc-item\"><li><span><a href=\"#Example\" data-toc-modified-id=\"Example-2.1.0.1\"><span class=\"toc-item-num\">2.1.0.1&nbsp;&nbsp;</span>Example</a></span></li><li><span><a href=\"#A-full-example-with-both-length-and-root-finding\" data-toc-modified-id=\"A-full-example-with-both-length-and-root-finding-2.1.0.2\"><span class=\"toc-item-num\">2.1.0.2&nbsp;&nbsp;</span>A full example with both length and root finding</a></span></li><li><span><a href=\"#Bootstrap-variability-of-success-rate-depending-on-the-number-of-samples\" data-toc-modified-id=\"Bootstrap-variability-of-success-rate-depending-on-the-number-of-samples-2.1.0.3\"><span class=\"toc-item-num\">2.1.0.3&nbsp;&nbsp;</span>Bootstrap variability of success rate depending on the number of samples</a></span></li><li><span><a href=\"#A-complete-examples-in-one-function\" data-toc-modified-id=\"A-complete-examples-in-one-function-2.1.0.4\"><span class=\"toc-item-num\">2.1.0.4&nbsp;&nbsp;</span>A complete examples in one function</a></span></li></ul></li></ul></li><li><span><a href=\"#Systematic-probability\" data-toc-modified-id=\"Systematic-probability-2.2\"><span class=\"toc-item-num\">2.2&nbsp;&nbsp;</span>Systematic probability</a></span><ul class=\"toc-item\"><li><span><a href=\"#Alpha\" data-toc-modified-id=\"Alpha-2.2.1\"><span class=\"toc-item-num\">2.2.1&nbsp;&nbsp;</span>Alpha</a></span></li><li><span><a href=\"#Ws\" data-toc-modified-id=\"Ws-2.2.2\"><span class=\"toc-item-num\">2.2.2&nbsp;&nbsp;</span>Ws</a></span></li><li><span><a href=\"#Minicolumns\" data-toc-modified-id=\"Minicolumns-2.2.3\"><span class=\"toc-item-num\">2.2.3&nbsp;&nbsp;</span>Minicolumns</a></span></li></ul></li></ul></li></ul></div>"
   ]
  },
  {
   "cell_type": "markdown",
   "metadata": {},
   "source": [
    "# Preamble"
   ]
  },
  {
   "cell_type": "markdown",
   "metadata": {},
   "source": [
    "## Settings, Setup and Libraries"
   ]
  },
  {
   "cell_type": "code",
   "execution_count": 1,
   "metadata": {
    "collapsed": true
   },
   "outputs": [],
   "source": [
    "import  pprint\n",
    "import  subprocess \n",
    "import sys \n",
    "sys.path.append('../')\n",
    "\n",
    "import numpy as np\n",
    "import scipy as sp\n",
    "import matplotlib.pyplot as plt\n",
    "import matplotlib\n",
    "import matplotlib.gridspec as gridspec\n",
    "from mpl_toolkits.axes_grid1 import make_axes_locatable\n",
    "import seaborn as sns\n",
    "\n",
    "%matplotlib inline\n",
    "plt.rcParams['figure.figsize'] = (8.0, 6.0)\n",
    "\n",
    "np.set_printoptions(suppress=True, precision=5)\n",
    "\n",
    "sns.set(font_scale=2.5)\n",
    "\n",
    "from network import Protocol, NetworkManager, Network\n",
    "from patterns_representation import PatternsRepresentation\n",
    "from analysis_functions import calculate_persistence_time, calculate_recall_quantities, deterministic_solution\n",
    "from plotting_functions import plot_weight_matrix, plot_network_activity_angle, plot_persistent_matrix\n",
    "\n",
    "epsilon = 10e-80\n",
    "vmin = -10.0"
   ]
  },
  {
   "cell_type": "markdown",
   "metadata": {},
   "source": [
    "## Functions"
   ]
  },
  {
   "cell_type": "markdown",
   "metadata": {},
   "source": [
    "#### Find success rate"
   ]
  },
  {
   "cell_type": "code",
   "execution_count": 45,
   "metadata": {
    "collapsed": true
   },
   "outputs": [],
   "source": [
    "def find_success_rate(manager, T_recall, n_samples, sigma_out):\n",
    "    manager.nn.sigma_in = sigma_out * np.sqrt(2 / tau_s) \n",
    "    manager.nn.sigma_out = sigma_out\n",
    "    T_cue = manager.nn.tau_s\n",
    "    I_cue = 0\n",
    "    nr = manager.canonical_network_representation\n",
    "    success_list = []\n",
    "    for index in range(n_samples):\n",
    "        aux = calculate_recall_quantities(manager, nr, T_recall, T_cue, remove=0.009, reset=True, empty_history=True)\n",
    "        success, pattern_sequence, persistent_times, timings = aux\n",
    "        success_list.append(success)\n",
    "        \n",
    "    return 0.5 - np.mean(success_list)"
   ]
  },
  {
   "cell_type": "markdown",
   "metadata": {},
   "source": [
    "#### Find the length"
   ]
  },
  {
   "cell_type": "code",
   "execution_count": 137,
   "metadata": {
    "collapsed": true
   },
   "outputs": [],
   "source": [
    "def find_right_length(length, manager, n_samples, T_recall):\n",
    "    found = False\n",
    "    number = 1.0\n",
    "    while(not found):\n",
    "        sigma_out = number * length\n",
    "        success_rate = find_success_rate(manager, T_recall=T_recall, n_samples=n_samples, sigma_out=sigma_out)\n",
    "        if success_rate < 0.50:\n",
    "            found = True\n",
    "        else:\n",
    "            number += 1.0\n",
    "    \n",
    "    return number"
   ]
  },
  {
   "cell_type": "markdown",
   "metadata": {},
   "source": [
    "#### Find root"
   ]
  },
  {
   "cell_type": "code",
   "execution_count": 136,
   "metadata": {
    "collapsed": true
   },
   "outputs": [],
   "source": [
    "def find_root(number, manager, T_recall, n_samples=50, deep=10, verbose=False):\n",
    "    left = (number - 1) * length \n",
    "    right = number * length\n",
    "    if verbose:\n",
    "        print('bounds', left, right)\n",
    "        \n",
    "    for i in range(deep):\n",
    "        sigma_test = (left + right) * 0.5\n",
    "        result = find_success_rate(manager, T_recall=T_recall, n_samples=n_samples, sigma_out=sigma_test)\n",
    "        if result > 0.5:\n",
    "            left = sigma_test\n",
    "        else:\n",
    "            right = sigma_test\n",
    "\n",
    "        if np.abs(sigma_test - 0.5) < 0.01:\n",
    "            break\n",
    "        if verbose:\n",
    "            print('result', result)\n",
    "            print('bounds', left, right)\n",
    "            \n",
    "    return sigma_test, result"
   ]
  },
  {
   "cell_type": "markdown",
   "metadata": {},
   "source": [
    "#### Function from parameters to p50"
   ]
  },
  {
   "cell_type": "code",
   "execution_count": 146,
   "metadata": {
    "collapsed": true
   },
   "outputs": [],
   "source": [
    "def find_p50(ws, wn, wb, alpha, minicolumns, hypercolumns, T_persistence, n_samples=100, deep=15, verbose=False):\n",
    "    strict_maximum = True\n",
    "\n",
    "    g_a = 1.0\n",
    "    g_I = 10.0\n",
    "    tau_a = 0.250\n",
    "    G = 1.0\n",
    "    sigma_out = 0.0\n",
    "    tau_s = 0.010\n",
    "    tau_z_pre = 0.025\n",
    "    tau_z_post = 0.005\n",
    "\n",
    "    n_patterns = minicolumns\n",
    "\n",
    "    # Manager properties\n",
    "    dt = 0.001\n",
    "    values_to_save = ['o']\n",
    "\n",
    "    # Neural Network\n",
    "    nn = Network(hypercolumns, minicolumns, G=G, tau_s=tau_s, tau_z_pre=tau_z_pre, tau_z_post=tau_z_post,\n",
    "                     tau_a=tau_a, g_a=g_a, g_I=g_I, sigma_out=sigma_out, epsilon=epsilon, prng=np.random,\n",
    "                     strict_maximum=strict_maximum, perfect=False, normalized_currents=True)\n",
    "\n",
    "    # Build the manager\n",
    "    manager = NetworkManager(nn=nn, dt=dt, values_to_save=values_to_save)\n",
    "\n",
    "    # Protocol\n",
    "    manager.run_artificial_protocol(ws=ws, wn=wn, wb=wb ,alpha=alpha)\n",
    "\n",
    "    manager.set_persistent_time_with_adaptation_gain(T_persistence=T_persistence)\n",
    "    \n",
    "    # First ffind the half length\n",
    "    n_samples_length = 30\n",
    "    T_recall = T_persistence * minicolumns + tau_s\n",
    "    number = find_right_length(length, manager, n_samples_length, T_recall)\n",
    "    sigma05, p05 = find_root(number, manager, T_recall, n_samples=n_samples, deep=deep, verbose=verbose)\n",
    "    \n",
    "    return sigma05, p05"
   ]
  },
  {
   "cell_type": "markdown",
   "metadata": {},
   "source": [
    "# Finding the p50 probability calculations"
   ]
  },
  {
   "cell_type": "markdown",
   "metadata": {},
   "source": [
    "## Doing the calculations for examples"
   ]
  },
  {
   "cell_type": "markdown",
   "metadata": {},
   "source": [
    "#### Example"
   ]
  },
  {
   "cell_type": "code",
   "execution_count": 27,
   "metadata": {
    "collapsed": true
   },
   "outputs": [],
   "source": [
    "strict_maximum = True\n",
    "\n",
    "g_a = 1.0\n",
    "g_I = 1.0\n",
    "tau_a = 0.250\n",
    "G = 100.0\n",
    "sigma_out = 0.0\n",
    "tau_s = 0.010\n",
    "tau_z_pre = 0.025\n",
    "tau_z_post = 0.005\n",
    "\n",
    "hypercolumns = 1\n",
    "minicolumns = 5\n",
    "n_patterns = minicolumns\n",
    "\n",
    "# Training\n",
    "ws = 1.0\n",
    "wn = 0.0\n",
    "wb = -20.0\n",
    "alpha = 1.0\n",
    "\n",
    "T_persistence = 0.080\n",
    "\n",
    "\n",
    "# Manager properties\n",
    "dt = 0.001\n",
    "values_to_save = ['o']\n",
    "\n",
    "# Neural Network\n",
    "nn = Network(hypercolumns, minicolumns, G=G, tau_s=tau_s, tau_z_pre=tau_z_pre, tau_z_post=tau_z_post,\n",
    "                 tau_a=tau_a, g_a=g_a, g_I=g_I, sigma_out=sigma_out, epsilon=epsilon, prng=np.random,\n",
    "                 strict_maximum=strict_maximum, perfect=False, normalized_currents=True)\n",
    "\n",
    "# Build the manager\n",
    "manager = NetworkManager(nn=nn, dt=dt, values_to_save=values_to_save)\n",
    "\n",
    "# Protocol\n",
    "manager.run_artificial_protocol(ws=ws, wn=wn, wb=wb ,alpha=alpha)\n",
    "\n",
    "manager.set_persistent_time_with_adaptation_gain(T_persistence=T_persistence)\n",
    "T_recall = T_persistence \n",
    "T_cue = tau_s\n",
    "I_cue = 0\n",
    "nr = manager.canonical_network_representation\n",
    "aux = calculate_recall_quantities(manager, nr, T_recall, T_cue, remove=0.009, reset=True, empty_history=True)\n",
    "success, pattern_sequence, persistent_times, timings = aux"
   ]
  },
  {
   "cell_type": "code",
   "execution_count": 94,
   "metadata": {},
   "outputs": [
    {
     "name": "stdout",
     "output_type": "stream",
     "text": [
      "0.49\n",
      "CPU times: user 3.9 s, sys: 4 ms, total: 3.91 s\n",
      "Wall time: 3.93 s\n"
     ]
    }
   ],
   "source": [
    "%%time\n",
    "length = ws - (wn - alpha)\n",
    "sigma_out =  3 * length \n",
    "n_samples = 100\n",
    "T_recall = T_persistence * manager.nn.minicolumns + tau_s\n",
    "success_rate = find_success_rate(manager, T_recall=T_recall, n_samples=n_samples, sigma_out=sigma_out)\n",
    "print(success_rate)"
   ]
  },
  {
   "cell_type": "code",
   "execution_count": 131,
   "metadata": {},
   "outputs": [
    {
     "name": "stdout",
     "output_type": "stream",
     "text": [
      "4.0\n",
      "CPU times: user 4.7 s, sys: 0 ns, total: 4.7 s\n",
      "Wall time: 4.74 s\n"
     ]
    }
   ],
   "source": [
    "%%time\n",
    "n_samples = 30\n",
    "number = find_right_length(length, manager, n_samples, T_recall)\n",
    "print(number)"
   ]
  },
  {
   "cell_type": "code",
   "execution_count": 135,
   "metadata": {},
   "outputs": [
    {
     "name": "stdout",
     "output_type": "stream",
     "text": [
      "2.0\n",
      "8.0\n"
     ]
    }
   ],
   "source": [
    "print(length)\n",
    "print(number * length)"
   ]
  },
  {
   "cell_type": "markdown",
   "metadata": {},
   "source": [
    "An example of the code used to calculate the root, now a function"
   ]
  },
  {
   "cell_type": "code",
   "execution_count": 123,
   "metadata": {},
   "outputs": [
    {
     "name": "stdout",
     "output_type": "stream",
     "text": [
      "4.0 6.0\n",
      "5.0 6.0\n",
      "5.5 6.0\n",
      "5.75 6.0\n",
      "5.875 6.0\n",
      "5.9375 6.0\n",
      "5.9375 5.96875\n",
      "5.9375 5.953125\n",
      "5.9375 5.9453125\n",
      "5.94140625 5.9453125\n",
      "5.943359375 5.9453125\n",
      "5.943359375 5.9443359375\n",
      "5.94384765625 5.9443359375\n",
      "5.944091796875 5.9443359375\n",
      "5.9442138671875 5.9443359375\n",
      "5.9442138671875 5.94427490234375\n",
      "result 0.46\n",
      "sigma 5.94427490234375\n",
      "CPU times: user 30.1 s, sys: 28 ms, total: 30.1 s\n",
      "Wall time: 30.2 s\n"
     ]
    }
   ],
   "source": [
    "%%time\n",
    "n_samples = 50\n",
    "deep = 15\n",
    "left = (number - 1) * length \n",
    "right = number * length\n",
    "print(left, right)\n",
    "# Test for middle\n",
    "for i in range(deep):\n",
    "    sigma_test = (left + right) * 0.5\n",
    "    result = find_success_rate(manager, T_recall=T_recall, n_samples=n_samples, sigma_out=sigma_test)\n",
    "    if result > 0.5:\n",
    "        left = sigma_test\n",
    "    else:\n",
    "        right = sigma_test\n",
    "  \n",
    "    print('result', result)\n",
    "    print('bounds', left, right)\n",
    "\n",
    "print('result', result)\n",
    "print('sigma', sigma_test)"
   ]
  },
  {
   "cell_type": "code",
   "execution_count": 138,
   "metadata": {},
   "outputs": [
    {
     "name": "stdout",
     "output_type": "stream",
     "text": [
      "0.4666666666666667\n"
     ]
    }
   ],
   "source": [
    "success_rate = find_success_rate(manager, T_recall=T_recall, n_samples=n_samples, sigma_out=sigma_test)\n",
    "print(success_rate)"
   ]
  },
  {
   "cell_type": "code",
   "execution_count": 134,
   "metadata": {},
   "outputs": [
    {
     "name": "stdout",
     "output_type": "stream",
     "text": [
      "bounds 6.0 8.0\n",
      "result 0.3\n",
      "bounds 6.0 7.0\n",
      "result 0.34\n",
      "bounds 6.0 6.5\n",
      "result 0.52\n",
      "bounds 6.25 6.5\n",
      "result 0.45\n",
      "bounds 6.25 6.375\n",
      "result 0.37\n",
      "bounds 6.25 6.3125\n",
      "result 0.49\n",
      "bounds 6.25 6.28125\n",
      "result 0.37\n",
      "bounds 6.25 6.265625\n",
      "result 0.5\n",
      "bounds 6.25 6.2578125\n",
      "result 0.53\n",
      "bounds 6.25390625 6.2578125\n",
      "result 0.52\n",
      "bounds 6.255859375 6.2578125\n",
      "CPU times: user 43.4 s, sys: 28 ms, total: 43.4 s\n",
      "Wall time: 43.5 s\n"
     ]
    }
   ],
   "source": [
    "%%time\n",
    "root, result = find_root(number, manager, T_recall, n_samples=100, deep=10, verbose=True)"
   ]
  },
  {
   "cell_type": "markdown",
   "metadata": {},
   "source": [
    "#### A full example with both length and root finding"
   ]
  },
  {
   "cell_type": "code",
   "execution_count": 145,
   "metadata": {},
   "outputs": [
    {
     "name": "stdout",
     "output_type": "stream",
     "text": [
      "bounds 4.0 6.0\n",
      "result 0.59\n",
      "bounds 5.0 6.0\n",
      "result 0.57\n",
      "bounds 5.5 6.0\n",
      "result 0.61\n",
      "bounds 5.75 6.0\n",
      "result 0.46\n",
      "bounds 5.75 5.875\n",
      "result 0.44\n",
      "bounds 5.75 5.8125\n",
      "result 0.46\n",
      "bounds 5.75 5.78125\n",
      "result 0.48\n",
      "bounds 5.75 5.765625\n",
      "result 0.55\n",
      "bounds 5.7578125 5.765625\n",
      "result 0.58\n",
      "bounds 5.76171875 5.765625\n",
      "result 0.52\n",
      "bounds 5.763671875 5.765625\n",
      "result 0.56\n",
      "bounds 5.7646484375 5.765625\n",
      "result 0.42\n",
      "bounds 5.7646484375 5.76513671875\n",
      "result 0.49\n",
      "bounds 5.7646484375 5.764892578125\n",
      "result 0.53\n",
      "bounds 5.7647705078125 5.764892578125\n",
      "result 0.43\n",
      "bounds 5.7647705078125 5.76483154296875\n",
      "CPU times: user 45.3 s, sys: 36 ms, total: 45.4 s\n",
      "Wall time: 45.4 s\n"
     ]
    }
   ],
   "source": [
    "%%time\n",
    "n_samples = 50\n",
    "T_recall = T_persistence * manager.nn.minicolumns + tau_s\n",
    "number = find_right_length(length, manager, n_samples, T_recall)\n",
    "n_samples = 100\n",
    "deep = 15\n",
    "root, result = find_root(number, manager, T_recall, n_samples=n_samples, deep=deep, verbose=True)"
   ]
  },
  {
   "cell_type": "code",
   "execution_count": 140,
   "metadata": {},
   "outputs": [
    {
     "name": "stdout",
     "output_type": "stream",
     "text": [
      "the sigma50 =  6.25006103515625 result =  0.53 number 4.0 number * length 8.0\n"
     ]
    }
   ],
   "source": [
    "print('the sigma50 = ', root, 'result = ', result, 'number', number, length', length)"
   ]
  },
  {
   "cell_type": "markdown",
   "metadata": {},
   "source": [
    "#### Bootstrap variability of success rate depending on the number of samples\n",
    "* 100 has a std on the order of 0.05\n",
    "* 200 has a std on the order of 0.034\n",
    "* 1000 has a std on the order of 0.01"
   ]
  },
  {
   "cell_type": "code",
   "execution_count": 80,
   "metadata": {},
   "outputs": [
    {
     "name": "stdout",
     "output_type": "stream",
     "text": [
      "10\n",
      "CPU times: user 43.3 s, sys: 32 ms, total: 43.3 s\n",
      "Wall time: 43.4 s\n"
     ]
    }
   ],
   "source": [
    "%%time\n",
    "sigma_out =  3 * length \n",
    "\n",
    "n_samples_list = [10]\n",
    "big_list = []\n",
    "sampling_times = 100\n",
    "for n_samples in n_samples_list:\n",
    "    print(n_samples)\n",
    "    success_rate_list = []\n",
    "    for i in range(sampling_times):\n",
    "        success_rate = find_success_rate(manager, T_recall=T_recall, n_samples=n_samples, sigma_out=sigma_out)\n",
    "        success_rate_list.append(success_rate)\n",
    "        \n",
    "    big_list.append(success_rate_list)\n",
    "    "
   ]
  },
  {
   "cell_type": "code",
   "execution_count": 79,
   "metadata": {},
   "outputs": [
    {
     "name": "stdout",
     "output_type": "stream",
     "text": [
      "[0.52]\n",
      "[0.18330302779823363]\n"
     ]
    }
   ],
   "source": [
    "means = [np.mean(x) for x in big_list]\n",
    "stds = [np.std(x) for x in big_list]\n",
    "\n",
    "pprint.pprint(means)\n",
    "pprint.pprint(stds)"
   ]
  },
  {
   "cell_type": "code",
   "execution_count": 67,
   "metadata": {},
   "outputs": [
    {
     "data": {
      "text/plain": [
       "(array([ 6.66667,  6.66667, 20.     , 26.66667, 13.33333, 26.66667,\n",
       "        16.66667, 26.66667, 10.     , 13.33333]),\n",
       " array([0.45 , 0.456, 0.462, 0.468, 0.474, 0.48 , 0.486, 0.492, 0.498,\n",
       "        0.504, 0.51 ]),\n",
       " <a list of 10 Patch objects>)"
      ]
     },
     "execution_count": 67,
     "metadata": {},
     "output_type": "execute_result"
    },
    {
     "data": {
      "image/png": "[encoded data removed]",
      "text/plain": [
       "<Figure size 576x432 with 1 Axes>"
      ]
     },
     "metadata": {},
     "output_type": "display_data"
    }
   ],
   "source": [
    "plt.hist(big_list[0], color='blue', density=True, stacked=True, alpha=0.2)"
   ]
  },
  {
   "cell_type": "markdown",
   "metadata": {},
   "source": [
    "####  A complete examples in one function"
   ]
  },
  {
   "cell_type": "code",
   "execution_count": 142,
   "metadata": {},
   "outputs": [
    {
     "name": "stdout",
     "output_type": "stream",
     "text": [
      "bounds 4.0 6.0\n",
      "result 0.64\n",
      "bounds 5.0 6.0\n",
      "result 0.44\n",
      "bounds 5.0 5.5\n",
      "result 0.57\n",
      "bounds 5.25 5.5\n",
      "result 0.44\n",
      "bounds 5.25 5.375\n",
      "result 0.48\n",
      "bounds 5.25 5.3125\n",
      "result 0.55\n",
      "bounds 5.28125 5.3125\n",
      "result 0.57\n",
      "bounds 5.296875 5.3125\n",
      "result 0.57\n",
      "bounds 5.3046875 5.3125\n",
      "result 0.48\n",
      "bounds 5.3046875 5.30859375\n",
      "result 0.58\n",
      "bounds 5.306640625 5.30859375\n",
      "result 0.54\n",
      "bounds 5.3076171875 5.30859375\n",
      "result 0.59\n",
      "bounds 5.30810546875 5.30859375\n",
      "result 0.49\n",
      "bounds 5.30810546875 5.308349609375\n",
      "result 0.55\n",
      "bounds 5.3082275390625 5.308349609375\n",
      "result 0.58\n",
      "bounds 5.30828857421875 5.308349609375\n",
      "CPU times: user 41.7 s, sys: 16 ms, total: 41.7 s\n",
      "Wall time: 41.8 s\n"
     ]
    }
   ],
   "source": [
    "%%time\n",
    "ws = 1.0\n",
    "wn = 0.0\n",
    "wb = -20.0\n",
    "alpha = 1.0\n",
    "minicolumns = 5\n",
    "hypercolumns = 1\n",
    "T_persistence = 0.050\n",
    "\n",
    "sigma50, result = find_p50(ws, wn, wb, alpha, minicolumns, hypercolumns, T_persistence,\n",
    "                           n_samples=100, deep=10, verbose=True)\n",
    "print('sigma50', sigma50, 'result', result)"
   ]
  },
  {
   "cell_type": "markdown",
   "metadata": {},
   "source": [
    "## Systematic probability"
   ]
  },
  {
   "cell_type": "markdown",
   "metadata": {},
   "source": [
    "### Alpha"
   ]
  },
  {
   "cell_type": "code",
   "execution_count": 151,
   "metadata": {},
   "outputs": [
    {
     "name": "stdout",
     "output_type": "stream",
     "text": [
      "0.5\n",
      "--------\n",
      "2.25\n",
      "--------\n",
      "4.0\n",
      "--------\n",
      "5.75\n",
      "--------\n",
      "7.5\n",
      "--------\n",
      "9.25\n",
      "--------\n",
      "11.0\n",
      "--------\n",
      "12.75\n",
      "--------\n",
      "14.5\n",
      "--------\n",
      "16.25\n",
      "--------\n",
      "18.0\n",
      "--------\n",
      "19.75\n",
      "--------\n",
      "21.5\n",
      "--------\n",
      "23.25\n",
      "--------\n",
      "25.0\n",
      "--------\n",
      "CPU times: user 11min 33s, sys: 452 ms, total: 11min 33s\n",
      "Wall time: 11min 34s\n"
     ]
    }
   ],
   "source": [
    "%%time\n",
    "alpha_num = 15\n",
    "alpha_vector = np.linspace(0.5, 25, num=alpha_num)\n",
    "sigma05_vector = np.zeros(alpha_num)\n",
    "p05_vector = np.zeros(alpha_num)\n",
    "\n",
    "\n",
    "ws = 1.0\n",
    "wn = 0.0\n",
    "wb = -20.0\n",
    "alpha = 1.0\n",
    "minicolumns = 5\n",
    "hypercolumns = 1\n",
    "T_persistence = 0.050\n",
    "n_samples = 100\n",
    "deep = 10\n",
    "\n",
    "for index, alpha in enumerate(alpha_vector):\n",
    "    print(alpha)\n",
    "    sigma05, p05 = find_p50(ws, wn, wb, alpha, minicolumns, hypercolumns, T_persistence, \n",
    "                            n_samples=n_samples, deep=deep, verbose=False)\n",
    "    print('--------')\n",
    "    sigma05_vector[index] = sigma05\n",
    "    p05_vector[index] = p05"
   ]
  },
  {
   "cell_type": "code",
   "execution_count": 152,
   "metadata": {},
   "outputs": [
    {
     "data": {
      "image/png": "[encoded data removed]",
      "text/plain": [
       "<Figure size 576x432 with 1 Axes>"
      ]
     },
     "metadata": {},
     "output_type": "display_data"
    }
   ],
   "source": [
    "lw = 8\n",
    "ms = 15\n",
    "\n",
    "fig = plt.figure()\n",
    "ax = fig.add_subplot(111)\n",
    "ax.plot(alpha_vector, sigma05_vector, 'o-', lw=lw, ms=ms)\n",
    "\n",
    "ax.set_xlabel(r'$\\alpha$')\n",
    "ax.set_ylabel(r'$\\sigma_{50}$')\n",
    "\n",
    "ax.axhline(0, ls='--', color='gray')\n",
    "ax.axvline(0, ls='--', color='gray');"
   ]
  },
  {
   "cell_type": "code",
   "execution_count": 153,
   "metadata": {},
   "outputs": [
    {
     "data": {
      "image/png": "[encoded data removed]",
      "text/plain": [
       "<Figure size 576x432 with 1 Axes>"
      ]
     },
     "metadata": {},
     "output_type": "display_data"
    }
   ],
   "source": [
    "lw = 8\n",
    "ms = 15\n",
    "\n",
    "fig = plt.figure()\n",
    "ax = fig.add_subplot(111)\n",
    "ax.plot(alpha_vector, p05_vector, 'o-', lw=lw, ms=ms)\n",
    "\n",
    "ax.set_xlabel(r'$\\alpha$')\n",
    "ax.set_ylabel(r'$p_{50}$')\n",
    "\n",
    "ax.set_ylim([0.0, 1.0])\n",
    "ax.axhline(0, ls='--', color='gray')\n",
    "ax.axvline(0, ls='--', color='gray');"
   ]
  },
  {
   "cell_type": "markdown",
   "metadata": {},
   "source": [
    "### Ws"
   ]
  },
  {
   "cell_type": "code",
   "execution_count": 173,
   "metadata": {},
   "outputs": [
    {
     "name": "stdout",
     "output_type": "stream",
     "text": [
      "1.0\n",
      "--------\n",
      "5.142857142857143\n",
      "--------\n",
      "9.285714285714286\n",
      "--------\n",
      "13.42857142857143\n",
      "--------\n",
      "17.571428571428573\n",
      "--------\n",
      "21.714285714285715\n",
      "--------\n",
      "25.85714285714286\n",
      "--------\n",
      "30.0\n",
      "--------\n",
      "CPU times: user 3min 53s, sys: 84 ms, total: 3min 53s\n",
      "Wall time: 3min 54s\n"
     ]
    }
   ],
   "source": [
    "%%time\n",
    "ws_num = 8\n",
    "ws_vector = np.linspace(1, 30, num=ws_num )\n",
    "sigma05_vector_ws = np.zeros(ws_num)\n",
    "p05_vector_ws = np.zeros(ws_num)\n",
    "\n",
    "\n",
    "ws = 1.0\n",
    "wn = 0.0\n",
    "wb = -20.0\n",
    "alpha = 1.0\n",
    "minicolumns = 5\n",
    "hypercolumns = 1\n",
    "T_persistence = 0.050\n",
    "n_samples = 100\n",
    "deep = 10\n",
    "\n",
    "for index, ws in enumerate(ws_vector):\n",
    "    print(ws)\n",
    "    sigma05, p05 = find_p50(ws, wn, wb, alpha, minicolumns, hypercolumns, T_persistence, \n",
    "                            n_samples=n_samples, deep=deep, verbose=False)\n",
    "    print('--------')\n",
    "    sigma05_vector_ws[index] = sigma05\n",
    "    p05_vector_ws[index] = p05"
   ]
  },
  {
   "cell_type": "code",
   "execution_count": 174,
   "metadata": {},
   "outputs": [
    {
     "data": {
      "image/png": "[encoded data removed]",
      "text/plain": [
       "<Figure size 576x432 with 1 Axes>"
      ]
     },
     "metadata": {},
     "output_type": "display_data"
    }
   ],
   "source": [
    "lw = 8\n",
    "ms = 15\n",
    "\n",
    "fig = plt.figure()\n",
    "ax = fig.add_subplot(111)\n",
    "ax.plot(ws_vector, sigma05_vector_ws, 'o-', lw=lw, ms=ms)\n",
    "\n",
    "ax.set_xlabel(r'$w_{self}$')\n",
    "ax.set_ylabel(r'$\\sigma_{50}$')\n",
    "\n",
    "ax.axhline(0, ls='--', color='gray')\n",
    "ax.axvline(0, ls='--', color='gray');"
   ]
  },
  {
   "cell_type": "code",
   "execution_count": 176,
   "metadata": {},
   "outputs": [
    {
     "data": {
      "image/png": "[encoded data removed]",
      "text/plain": [
       "<Figure size 576x432 with 1 Axes>"
      ]
     },
     "metadata": {},
     "output_type": "display_data"
    }
   ],
   "source": [
    "lw = 8\n",
    "ms = 15\n",
    "\n",
    "fig = plt.figure()\n",
    "ax = fig.add_subplot(111)\n",
    "ax.plot(ws_vector, p05_vector_ws, 'o-', lw=lw, ms=ms)\n",
    "\n",
    "ax.set_xlabel(r'$w_{self}$')\n",
    "ax.set_ylabel(r'$p_{50}$')\n",
    "ax.set_ylim([0.0, 1.0])\n",
    "ax.axhline(0, ls='--', color='gray')\n",
    "ax.axvline(0, ls='--', color='gray');"
   ]
  },
  {
   "cell_type": "markdown",
   "metadata": {},
   "source": [
    "### Minicolumns"
   ]
  },
  {
   "cell_type": "code",
   "execution_count": 166,
   "metadata": {},
   "outputs": [
    {
     "name": "stdout",
     "output_type": "stream",
     "text": [
      "5\n",
      "--------\n",
      "10\n",
      "--------\n",
      "15\n",
      "--------\n",
      "20\n",
      "--------\n",
      "CPU times: user 9min 12s, sys: 316 ms, total: 9min 12s\n",
      "Wall time: 9min 13s\n"
     ]
    }
   ],
   "source": [
    "%%time\n",
    "ws_num = 10\n",
    "minicolumns_vector = np.arange(5, 25, 5).astype('int')\n",
    "minicolumns_num = minicolumns_vector.size\n",
    "sigma05_vector_minicolumns = np.zeros(minicolumns_num)\n",
    "p05_vector_minicolumns = np.zeros(minicolumns_num)\n",
    "\n",
    "\n",
    "ws = 1.0\n",
    "wn = 0.0\n",
    "wb = -20.0\n",
    "alpha = 1.0\n",
    "minicolumns = 5\n",
    "hypercolumns = 1\n",
    "T_persistence = 0.050\n",
    "n_samples = 100\n",
    "deep = 10\n",
    "\n",
    "for index, minicolumns in enumerate(minicolumns_vector):\n",
    "    print(minicolumns)\n",
    "    sigma05, p05 = find_p50(ws, wn, wb, alpha, minicolumns, hypercolumns, T_persistence, \n",
    "                            n_samples=n_samples, deep=deep, verbose=False)\n",
    "    print('--------')\n",
    "    sigma05_vector_minicolumns[index] = sigma05\n",
    "    p05_vector_minicolumns[index] = p05"
   ]
  },
  {
   "cell_type": "code",
   "execution_count": 167,
   "metadata": {},
   "outputs": [
    {
     "data": {
      "image/png": "[encoded data removed]",
      "text/plain": [
       "<Figure size 576x432 with 1 Axes>"
      ]
     },
     "metadata": {},
     "output_type": "display_data"
    }
   ],
   "source": [
    "lw = 8\n",
    "ms = 15\n",
    "\n",
    "fig = plt.figure()\n",
    "ax = fig.add_subplot(111)\n",
    "ax.plot(minicolumns_vector, sigma05_vector_minicolumns, 'o-', lw=lw, ms=ms)\n",
    "\n",
    "ax.set_xlabel('minicolumns')\n",
    "ax.set_ylabel(r'$\\sigma_{50}$')\n",
    "\n",
    "ax.axhline(0, ls='--', color='gray')\n",
    "ax.axvline(0, ls='--', color='gray');"
   ]
  },
  {
   "cell_type": "code",
   "execution_count": 169,
   "metadata": {},
   "outputs": [
    {
     "data": {
      "image/png": "[encoded data removed]",
      "text/plain": [
       "<Figure size 576x432 with 1 Axes>"
      ]
     },
     "metadata": {},
     "output_type": "display_data"
    }
   ],
   "source": [
    "lw = 8\n",
    "ms = 15\n",
    "\n",
    "fig = plt.figure()\n",
    "ax = fig.add_subplot(111)\n",
    "ax.plot(minicolumns_vector, p05_vector_minicolumns, 'o-', lw=lw, ms=ms)\n",
    "\n",
    "ax.set_xlabel('minicolumns')\n",
    "ax.set_ylabel(r'$p_{50}$')\n",
    "\n",
    "\n",
    "ax.set_ylim([0.0, 1.0])\n",
    "ax.axhline(0, ls='--', color='gray')\n",
    "ax.axvline(0, ls='--', color='gray');"
   ]
  },
  {
   "cell_type": "code",
   "execution_count": null,
   "metadata": {
    "collapsed": true
   },
   "outputs": [],
   "source": []
  }
 ],
 "metadata": {
  "kernelspec": {
   "display_name": "Python 3",
   "language": "python",
   "name": "python3"
  },
  "language_info": {
   "codemirror_mode": {
    "name": "ipython",
    "version": 3
   },
   "file_extension": ".py",
   "mimetype": "text/x-python",
   "name": "python",
   "nbconvert_exporter": "python",
   "pygments_lexer": "ipython3",
   "version": "3.6.3"
  },
  "toc": {
   "base_numbering": 1,
   "nav_menu": {},
   "number_sections": true,
   "sideBar": true,
   "skip_h1_title": false,
   "title_cell": "Table of Contents",
   "title_sidebar": "Contents",
   "toc_cell": true,
   "toc_position": {},
   "toc_section_display": true,
   "toc_window_display": true
  }
 },
 "nbformat": 4,
 "nbformat_minor": 2
}
